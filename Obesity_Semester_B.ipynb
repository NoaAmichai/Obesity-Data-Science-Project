{
 "cells": [
  {
   "cell_type": "markdown",
   "id": "c009fccd",
   "metadata": {},
   "source": [
    "### Obesity - Classification (Semester B)\n"
   ]
  },
  {
   "cell_type": "code",
<<<<<<< Updated upstream
   "execution_count": 302,
=======
   "execution_count": 4,
>>>>>>> Stashed changes
   "id": "63d63508",
   "metadata": {},
   "outputs": [],
   "source": [
    "import pandas as pd\n",
    "import numpy as np\n",
    "%matplotlib inline\n",
    "import matplotlib.pyplot as plt\n",
    "plt.style.use(\"seaborn\")\n",
    "import seaborn as sns\n",
    "from bokeh.plotting import figure, output_file, show\n",
    "from bokeh.palettes import magma\n",
    "import matplotlib.cm as cm \n",
    "import plotly.express as px\n",
    "import warnings\n",
    "warnings.filterwarnings('ignore')\n",
    "\n",
    "\n",
    "np.set_printoptions(precision=5)"
   ]
  },
  {
   "cell_type": "code",
<<<<<<< Updated upstream
   "execution_count": 303,
=======
   "execution_count": 5,
>>>>>>> Stashed changes
   "id": "9834f89d",
   "metadata": {},
   "outputs": [
    {
     "data": {
      "text/html": [
       "<div>\n",
       "<style scoped>\n",
       "    .dataframe tbody tr th:only-of-type {\n",
       "        vertical-align: middle;\n",
       "    }\n",
       "\n",
       "    .dataframe tbody tr th {\n",
       "        vertical-align: top;\n",
       "    }\n",
       "\n",
       "    .dataframe thead th {\n",
       "        text-align: right;\n",
       "    }\n",
       "</style>\n",
       "<table border=\"1\" class=\"dataframe\">\n",
       "  <thead>\n",
       "    <tr style=\"text-align: right;\">\n",
       "      <th></th>\n",
       "      <th>Gender</th>\n",
       "      <th>Age</th>\n",
       "      <th>Height</th>\n",
       "      <th>Weight</th>\n",
       "      <th>family_history_with_overweight</th>\n",
       "      <th>FAVC</th>\n",
       "      <th>FCVC</th>\n",
       "      <th>NCP</th>\n",
       "      <th>CAEC</th>\n",
       "      <th>SMOKE</th>\n",
       "      <th>CH2O</th>\n",
       "      <th>SCC</th>\n",
       "      <th>FAF</th>\n",
       "      <th>TUE</th>\n",
       "      <th>CALC</th>\n",
       "      <th>MTRANS</th>\n",
       "      <th>NObeyesdad</th>\n",
       "    </tr>\n",
       "  </thead>\n",
       "  <tbody>\n",
       "    <tr>\n",
       "      <th>0</th>\n",
       "      <td>Female</td>\n",
       "      <td>21.0</td>\n",
       "      <td>1.62</td>\n",
       "      <td>64.0</td>\n",
       "      <td>yes</td>\n",
       "      <td>no</td>\n",
       "      <td>2.0</td>\n",
       "      <td>3.0</td>\n",
       "      <td>Sometimes</td>\n",
       "      <td>no</td>\n",
       "      <td>2.0</td>\n",
       "      <td>no</td>\n",
       "      <td>0.0</td>\n",
       "      <td>1.0</td>\n",
       "      <td>no</td>\n",
       "      <td>Public_Transportation</td>\n",
       "      <td>Normal_Weight</td>\n",
       "    </tr>\n",
       "    <tr>\n",
       "      <th>1</th>\n",
       "      <td>Female</td>\n",
       "      <td>21.0</td>\n",
       "      <td>1.52</td>\n",
       "      <td>56.0</td>\n",
       "      <td>yes</td>\n",
       "      <td>no</td>\n",
       "      <td>3.0</td>\n",
       "      <td>3.0</td>\n",
       "      <td>Sometimes</td>\n",
       "      <td>yes</td>\n",
       "      <td>3.0</td>\n",
       "      <td>yes</td>\n",
       "      <td>3.0</td>\n",
       "      <td>0.0</td>\n",
       "      <td>Sometimes</td>\n",
       "      <td>Public_Transportation</td>\n",
       "      <td>Normal_Weight</td>\n",
       "    </tr>\n",
       "    <tr>\n",
       "      <th>2</th>\n",
       "      <td>Male</td>\n",
       "      <td>23.0</td>\n",
       "      <td>1.80</td>\n",
       "      <td>77.0</td>\n",
       "      <td>yes</td>\n",
       "      <td>no</td>\n",
       "      <td>2.0</td>\n",
       "      <td>3.0</td>\n",
       "      <td>Sometimes</td>\n",
       "      <td>no</td>\n",
       "      <td>2.0</td>\n",
       "      <td>no</td>\n",
       "      <td>2.0</td>\n",
       "      <td>1.0</td>\n",
       "      <td>Frequently</td>\n",
       "      <td>Public_Transportation</td>\n",
       "      <td>Normal_Weight</td>\n",
       "    </tr>\n",
       "  </tbody>\n",
       "</table>\n",
       "</div>"
      ],
      "text/plain": [
       "   Gender   Age  Height  Weight family_history_with_overweight FAVC  FCVC  \\\n",
       "0  Female  21.0    1.62    64.0                            yes   no   2.0   \n",
       "1  Female  21.0    1.52    56.0                            yes   no   3.0   \n",
       "2    Male  23.0    1.80    77.0                            yes   no   2.0   \n",
       "\n",
       "   NCP       CAEC SMOKE  CH2O  SCC  FAF  TUE        CALC  \\\n",
       "0  3.0  Sometimes    no   2.0   no  0.0  1.0          no   \n",
       "1  3.0  Sometimes   yes   3.0  yes  3.0  0.0   Sometimes   \n",
       "2  3.0  Sometimes    no   2.0   no  2.0  1.0  Frequently   \n",
       "\n",
       "                  MTRANS     NObeyesdad  \n",
       "0  Public_Transportation  Normal_Weight  \n",
       "1  Public_Transportation  Normal_Weight  \n",
       "2  Public_Transportation  Normal_Weight  "
      ]
     },
<<<<<<< Updated upstream
     "execution_count": 303,
=======
     "execution_count": 5,
>>>>>>> Stashed changes
     "metadata": {},
     "output_type": "execute_result"
    }
   ],
   "source": [
    "df = pd.read_csv(\"ObesityDataSet_raw_and_data_sinthetic.csv\")\n",
    "df.head(3)"
   ]
  },
  {
   "cell_type": "markdown",
   "id": "490c0249",
   "metadata": {},
   "source": [
    "```b\n",
    "* Gender : Male or Female\n",
    "* Age : Age of the person\n",
    "* Height : Height in \"meter\"\n",
    "* Weight : Weight in \"kilogram\"\n",
    "* family_history_with_overweight : if parents/family with obesity\n",
    "* FAVC : Frequent consumption of high caloric food\n",
    "* FCVC : Frequency of consumption of vegetables\n",
    "* NCP : Number of main meals (per day)\n",
    "* CAEC : Consumption of food between meals\n",
    "* SMOKE : does the person smoke or not\n",
    "* CH2O : Consumption of water daily\n",
    "* SCC : Calories consumption monitoring\n",
    "* FAF : Physical activity frequency (per week)\n",
    "* TUE : Time using technology devices\n",
    "* CALC : Alcool consumption\n",
    "* MTRANS : what kind of transportation taken\n",
    "* NObeyesdad : level of obesity\n",
    "``` "
   ]
  },
  {
   "cell_type": "code",
<<<<<<< Updated upstream
   "execution_count": 304,
=======
   "execution_count": 6,
>>>>>>> Stashed changes
   "id": "86a2615c",
   "metadata": {},
   "outputs": [
    {
     "name": "stdout",
     "output_type": "stream",
     "text": [
      "<class 'pandas.core.frame.DataFrame'>\n",
      "RangeIndex: 2111 entries, 0 to 2110\n",
      "Data columns (total 17 columns):\n",
      " #   Column                          Non-Null Count  Dtype  \n",
      "---  ------                          --------------  -----  \n",
      " 0   Gender                          2111 non-null   object \n",
      " 1   Age                             2111 non-null   float64\n",
      " 2   Height                          2111 non-null   float64\n",
      " 3   Weight                          2111 non-null   float64\n",
      " 4   family_history_with_overweight  2111 non-null   object \n",
      " 5   FAVC                            2111 non-null   object \n",
      " 6   FCVC                            2111 non-null   float64\n",
      " 7   NCP                             2111 non-null   float64\n",
      " 8   CAEC                            2111 non-null   object \n",
      " 9   SMOKE                           2111 non-null   object \n",
      " 10  CH2O                            2111 non-null   float64\n",
      " 11  SCC                             2111 non-null   object \n",
      " 12  FAF                             2111 non-null   float64\n",
      " 13  TUE                             2111 non-null   float64\n",
      " 14  CALC                            2111 non-null   object \n",
      " 15  MTRANS                          2111 non-null   object \n",
      " 16  NObeyesdad                      2111 non-null   object \n",
      "dtypes: float64(8), object(9)\n",
      "memory usage: 280.5+ KB\n"
     ]
    }
   ],
   "source": [
    "df.info()"
   ]
  },
  {
   "cell_type": "code",
<<<<<<< Updated upstream
   "execution_count": 305,
=======
   "execution_count": 7,
>>>>>>> Stashed changes
   "id": "626f9c27",
   "metadata": {},
   "outputs": [],
   "source": [
    "#Other than 'Age', 'Weight' and 'Height' there is no reason for the other numeric columns to be 'float'. We'll change it.\n",
    "columns = [\"NCP\", \"CH2O\", \"TUE\", \"FAF\",\"FCVC\"]\n",
    "for col in columns:\n",
    "    df[col] = df[col].astype('int64')"
   ]
  },
  {
   "cell_type": "code",
<<<<<<< Updated upstream
   "execution_count": 306,
=======
   "execution_count": 8,
>>>>>>> Stashed changes
   "id": "f8fad169",
   "metadata": {},
   "outputs": [],
   "source": [
    "Normal_Weight = df.loc[df.NObeyesdad == \"Normal_Weight\"]\n",
    "Obesity_Type_II = df.loc[df.NObeyesdad == \"Obesity_Type_II\"]\n",
    "Obesity_Type_III = df.loc[df.NObeyesdad == \"Obesity_Type_III\"]\n",
    "\n",
    "frames = [Normal_Weight,Obesity_Type_II,Obesity_Type_III]\n",
    "result = pd.concat(frames)"
   ]
  },
  {
   "cell_type": "code",
<<<<<<< Updated upstream
   "execution_count": 307,
   "id": "900ded10",
   "metadata": {},
   "outputs": [
    {
     "data": {
      "text/plain": [
       "<AxesSubplot:xlabel='MTRANS', ylabel='Count'>"
      ]
     },
     "execution_count": 307,
     "metadata": {},
     "output_type": "execute_result"
    },
    {
     "data": {
      "image/png": "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\n",
      "text/plain": [
       "<Figure size 1440x1008 with 6 Axes>"
      ]
     },
     "metadata": {},
     "output_type": "display_data"
    }
   ],
   "source": [
    "fig, axs = plt.subplots(ncols=3, nrows = 2,figsize = (20,14))\n",
    "\n",
    "sns.histplot(data=result, x=\"CALC\", hue=\"NObeyesdad\", multiple=\"dodge\", shrink=.8,palette=\"magma\",ax=axs[0][0])\n",
    "sns.histplot(data=result, x=\"SMOKE\", hue=\"NObeyesdad\", multiple=\"dodge\", shrink=.8,palette=\"magma\",ax=axs[0][1])\n",
    "sns.histplot(data=result, x=\"family_history_with_overweight\", hue=\"NObeyesdad\", multiple=\"dodge\", shrink=.8,palette=\"magma\",ax=axs[0][2])\n",
    "sns.histplot(data=result, x=\"CAEC\", hue=\"NObeyesdad\", multiple=\"dodge\", shrink=.8,palette=\"magma\",ax=axs[1][0])\n",
    "sns.histplot(data=result, x=\"NCP\", hue=\"NObeyesdad\", multiple=\"dodge\", shrink=.8,palette=\"magma\",ax=axs[1][1])\n",
    "sns.histplot(data=result, x=\"MTRANS\", hue=\"NObeyesdad\", multiple=\"dodge\", shrink=.8,palette=\"magma\",ax=axs[1][2])\n"
   ]
  },
  {
   "cell_type": "code",
   "execution_count": 308,
   "id": "d08a7155",
   "metadata": {},
   "outputs": [
    {
     "data": {
      "text/plain": [
       "MTRANS                 NObeyesdad      \n",
       "Automobile             Obesity_Type_II      95\n",
       "                       Normal_Weight        45\n",
       "                       Obesity_Type_III      1\n",
       "Bike                   Normal_Weight         4\n",
       "                       Obesity_Type_II       1\n",
       "Motorbike              Normal_Weight         6\n",
       "Public_Transportation  Obesity_Type_III    323\n",
       "                       Normal_Weight       200\n",
       "                       Obesity_Type_II     200\n",
       "Walking                Normal_Weight        32\n",
       "                       Obesity_Type_II       1\n",
       "Name: NObeyesdad, dtype: int64"
      ]
     },
     "execution_count": 308,
     "metadata": {},
     "output_type": "execute_result"
    }
   ],
   "source": [
    "result.NObeyesdad.groupby(result.MTRANS).value_counts()"
   ]
  },
  {
   "cell_type": "code",
   "execution_count": 309,
=======
   "execution_count": 9,
>>>>>>> Stashed changes
   "id": "5e136504",
   "metadata": {},
   "outputs": [],
   "source": [
    "Normal = Normal_Weight.describe(include='O').iloc[2:4]\n",
    "Type_II =Obesity_Type_II.describe(include='O').iloc[2:4]\n",
    "Type_III =Obesity_Type_III.describe(include='O').iloc[2:4]"
   ]
  },
  {
   "cell_type": "code",
<<<<<<< Updated upstream
   "execution_count": 310,
   "id": "e3709209",
=======
   "execution_count": 10,
   "id": "99575196",
>>>>>>> Stashed changes
   "metadata": {},
   "outputs": [
    {
     "data": {
      "text/html": [
       "<div>\n",
       "<style scoped>\n",
       "    .dataframe tbody tr th:only-of-type {\n",
       "        vertical-align: middle;\n",
       "    }\n",
       "\n",
       "    .dataframe tbody tr th {\n",
       "        vertical-align: top;\n",
       "    }\n",
       "\n",
       "    .dataframe thead th {\n",
       "        text-align: right;\n",
       "    }\n",
       "</style>\n",
       "<table border=\"1\" class=\"dataframe\">\n",
       "  <thead>\n",
       "    <tr style=\"text-align: right;\">\n",
       "      <th></th>\n",
       "      <th>Gender</th>\n",
       "      <th>family_history_with_overweight</th>\n",
       "      <th>FAVC</th>\n",
       "      <th>CAEC</th>\n",
       "      <th>SMOKE</th>\n",
       "      <th>SCC</th>\n",
       "      <th>CALC</th>\n",
       "      <th>MTRANS</th>\n",
       "      <th>NObeyesdad</th>\n",
       "    </tr>\n",
       "  </thead>\n",
       "  <tbody>\n",
       "    <tr>\n",
       "      <th>top</th>\n",
       "      <td>Male</td>\n",
       "      <td>yes</td>\n",
       "      <td>yes</td>\n",
       "      <td>Sometimes</td>\n",
       "      <td>no</td>\n",
       "      <td>no</td>\n",
       "      <td>Sometimes</td>\n",
       "      <td>Public_Transportation</td>\n",
       "      <td>Normal_Weight</td>\n",
       "    </tr>\n",
       "    <tr>\n",
       "      <th>freq</th>\n",
       "      <td>146</td>\n",
       "      <td>155</td>\n",
       "      <td>208</td>\n",
       "      <td>159</td>\n",
       "      <td>274</td>\n",
       "      <td>257</td>\n",
       "      <td>161</td>\n",
       "      <td>200</td>\n",
       "      <td>287</td>\n",
       "    </tr>\n",
       "  </tbody>\n",
       "</table>\n",
       "</div>"
      ],
      "text/plain": [
       "     Gender family_history_with_overweight FAVC       CAEC SMOKE  SCC  \\\n",
       "top    Male                            yes  yes  Sometimes    no   no   \n",
       "freq    146                            155  208        159   274  257   \n",
       "\n",
       "           CALC                 MTRANS     NObeyesdad  \n",
       "top   Sometimes  Public_Transportation  Normal_Weight  \n",
       "freq        161                    200            287  "
      ]
     },
     "execution_count": 310,
     "metadata": {},
     "output_type": "execute_result"
    }
   ],
   "source": [
    "Normal"
   ]
  },
  {
   "cell_type": "code",
<<<<<<< Updated upstream
   "execution_count": 311,
   "id": "5c995791",
   "metadata": {
    "scrolled": true
   },
=======
   "execution_count": 11,
   "id": "62c2e7f5",
   "metadata": {},
>>>>>>> Stashed changes
   "outputs": [
    {
     "data": {
      "text/html": [
       "<div>\n",
       "<style scoped>\n",
       "    .dataframe tbody tr th:only-of-type {\n",
       "        vertical-align: middle;\n",
       "    }\n",
       "\n",
       "    .dataframe tbody tr th {\n",
       "        vertical-align: top;\n",
       "    }\n",
       "\n",
       "    .dataframe thead th {\n",
       "        text-align: right;\n",
       "    }\n",
       "</style>\n",
       "<table border=\"1\" class=\"dataframe\">\n",
       "  <thead>\n",
       "    <tr style=\"text-align: right;\">\n",
       "      <th></th>\n",
       "      <th>Gender</th>\n",
       "      <th>family_history_with_overweight</th>\n",
       "      <th>FAVC</th>\n",
       "      <th>CAEC</th>\n",
       "      <th>SMOKE</th>\n",
       "      <th>SCC</th>\n",
       "      <th>CALC</th>\n",
       "      <th>MTRANS</th>\n",
       "      <th>NObeyesdad</th>\n",
       "    </tr>\n",
       "  </thead>\n",
       "  <tbody>\n",
       "    <tr>\n",
       "      <th>top</th>\n",
       "      <td>Male</td>\n",
       "      <td>yes</td>\n",
       "      <td>yes</td>\n",
       "      <td>Sometimes</td>\n",
       "      <td>no</td>\n",
       "      <td>no</td>\n",
       "      <td>Sometimes</td>\n",
       "      <td>Public_Transportation</td>\n",
       "      <td>Obesity_Type_II</td>\n",
       "    </tr>\n",
       "    <tr>\n",
       "      <th>freq</th>\n",
       "      <td>295</td>\n",
       "      <td>296</td>\n",
       "      <td>290</td>\n",
       "      <td>293</td>\n",
       "      <td>282</td>\n",
       "      <td>296</td>\n",
       "      <td>224</td>\n",
       "      <td>200</td>\n",
       "      <td>297</td>\n",
       "    </tr>\n",
       "  </tbody>\n",
       "</table>\n",
       "</div>"
      ],
      "text/plain": [
       "     Gender family_history_with_overweight FAVC       CAEC SMOKE  SCC  \\\n",
       "top    Male                            yes  yes  Sometimes    no   no   \n",
       "freq    295                            296  290        293   282  296   \n",
       "\n",
       "           CALC                 MTRANS       NObeyesdad  \n",
       "top   Sometimes  Public_Transportation  Obesity_Type_II  \n",
       "freq        224                    200              297  "
      ]
     },
<<<<<<< Updated upstream
     "execution_count": 311,
=======
     "execution_count": 11,
>>>>>>> Stashed changes
     "metadata": {},
     "output_type": "execute_result"
    }
   ],
   "source": [
    "Type_II"
   ]
  },
  {
   "cell_type": "code",
<<<<<<< Updated upstream
   "execution_count": 312,
   "id": "7ef8cb41",
   "metadata": {
    "scrolled": false
   },
   "outputs": [
    {
     "data": {
      "text/html": [
       "<div>\n",
       "<style scoped>\n",
       "    .dataframe tbody tr th:only-of-type {\n",
       "        vertical-align: middle;\n",
       "    }\n",
       "\n",
       "    .dataframe tbody tr th {\n",
       "        vertical-align: top;\n",
       "    }\n",
       "\n",
       "    .dataframe thead th {\n",
       "        text-align: right;\n",
       "    }\n",
       "</style>\n",
       "<table border=\"1\" class=\"dataframe\">\n",
       "  <thead>\n",
       "    <tr style=\"text-align: right;\">\n",
       "      <th></th>\n",
       "      <th>Gender</th>\n",
       "      <th>family_history_with_overweight</th>\n",
       "      <th>FAVC</th>\n",
       "      <th>CAEC</th>\n",
       "      <th>SMOKE</th>\n",
       "      <th>SCC</th>\n",
       "      <th>CALC</th>\n",
       "      <th>MTRANS</th>\n",
       "      <th>NObeyesdad</th>\n",
       "    </tr>\n",
       "  </thead>\n",
       "  <tbody>\n",
       "    <tr>\n",
       "      <th>top</th>\n",
       "      <td>Female</td>\n",
       "      <td>yes</td>\n",
       "      <td>yes</td>\n",
       "      <td>Sometimes</td>\n",
       "      <td>no</td>\n",
       "      <td>no</td>\n",
       "      <td>Sometimes</td>\n",
       "      <td>Public_Transportation</td>\n",
       "      <td>Obesity_Type_III</td>\n",
       "    </tr>\n",
       "    <tr>\n",
       "      <th>freq</th>\n",
       "      <td>323</td>\n",
       "      <td>324</td>\n",
       "      <td>323</td>\n",
       "      <td>323</td>\n",
       "      <td>323</td>\n",
       "      <td>324</td>\n",
       "      <td>323</td>\n",
       "      <td>323</td>\n",
       "      <td>324</td>\n",
       "    </tr>\n",
       "  </tbody>\n",
       "</table>\n",
       "</div>"
      ],
      "text/plain": [
       "      Gender family_history_with_overweight FAVC       CAEC SMOKE  SCC  \\\n",
       "top   Female                            yes  yes  Sometimes    no   no   \n",
       "freq     323                            324  323        323   323  324   \n",
       "\n",
       "           CALC                 MTRANS        NObeyesdad  \n",
       "top   Sometimes  Public_Transportation  Obesity_Type_III  \n",
       "freq        323                    323               324  "
      ]
     },
     "execution_count": 312,
     "metadata": {},
     "output_type": "execute_result"
=======
   "execution_count": 12,
   "id": "c53f3edd",
   "metadata": {},
   "outputs": [
    {
     "ename": "NameError",
     "evalue": "name 'new_data' is not defined",
     "output_type": "error",
     "traceback": [
      "\u001b[1;31m---------------------------------------------------------------------------\u001b[0m",
      "\u001b[1;31mNameError\u001b[0m                                 Traceback (most recent call last)",
      "\u001b[1;32m<ipython-input-12-c20dc32b0c88>\u001b[0m in \u001b[0;36m<module>\u001b[1;34m\u001b[0m\n\u001b[1;32m----> 1\u001b[1;33m \u001b[0mnew_data\u001b[0m\u001b[1;33m\u001b[0m\u001b[1;33m\u001b[0m\u001b[0m\n\u001b[0m",
      "\u001b[1;31mNameError\u001b[0m: name 'new_data' is not defined"
     ]
>>>>>>> Stashed changes
    }
   ],
   "source": [
    "Type_III"
   ]
  },
  {
   "cell_type": "code",
<<<<<<< Updated upstream
   "execution_count": null,
   "id": "d2022557",
   "metadata": {},
   "outputs": [],
   "source": []
  },
  {
   "cell_type": "code",
   "execution_count": 291,
=======
   "execution_count": 13,
>>>>>>> Stashed changes
   "id": "72fb899e",
   "metadata": {
    "scrolled": false
   },
   "outputs": [],
   "source": [
    "df_res = df.copy(deep=True)\n",
    "df_res = pd.get_dummies(df, columns=['Gender','FAVC','family_history_with_overweight','CAEC','CALC',\n",
    "                                     'SCC','FCVC','CH2O','FAF','SMOKE','TUE'])"
   ]
  },
  {
   "cell_type": "code",
<<<<<<< Updated upstream
   "execution_count": 292,
=======
   "execution_count": 14,
>>>>>>> Stashed changes
   "id": "a2b99f9b",
   "metadata": {},
   "outputs": [],
   "source": [
    "#dropping 'Weight' colmn\n",
    "df_res.drop(columns=['Weight','MTRANS'],inplace=True)"
   ]
  },
  {
   "cell_type": "code",
<<<<<<< Updated upstream
   "execution_count": 293,
=======
   "execution_count": 17,
   "id": "4be85021",
   "metadata": {},
   "outputs": [
    {
     "ename": "ValueError",
     "evalue": "Could not interpret input 'count'",
     "output_type": "error",
     "traceback": [
      "\u001b[1;31m---------------------------------------------------------------------------\u001b[0m",
      "\u001b[1;31mValueError\u001b[0m                                Traceback (most recent call last)",
      "\u001b[1;32m<ipython-input-17-4bbdb8050b9e>\u001b[0m in \u001b[0;36m<module>\u001b[1;34m\u001b[0m\n\u001b[0;32m      1\u001b[0m \u001b[1;32mimport\u001b[0m \u001b[0mseaborn\u001b[0m \u001b[1;32mas\u001b[0m \u001b[0msns\u001b[0m\u001b[1;33m\u001b[0m\u001b[1;33m\u001b[0m\u001b[0m\n\u001b[1;32m----> 2\u001b[1;33m \u001b[0msns\u001b[0m\u001b[1;33m.\u001b[0m\u001b[0mfactorplot\u001b[0m\u001b[1;33m(\u001b[0m\u001b[1;34m\"NObeyesdad\"\u001b[0m\u001b[1;33m,\u001b[0m \u001b[1;34m\"count\"\u001b[0m\u001b[1;33m,\u001b[0m \u001b[0mcol\u001b[0m\u001b[1;33m=\u001b[0m\u001b[1;34m\"CALC\"\u001b[0m\u001b[1;33m,\u001b[0m \u001b[0mdata\u001b[0m\u001b[1;33m=\u001b[0m\u001b[0mdf\u001b[0m\u001b[1;33m,\u001b[0m \u001b[0mkind\u001b[0m\u001b[1;33m=\u001b[0m\u001b[1;34m\"bar\"\u001b[0m\u001b[1;33m)\u001b[0m\u001b[1;33m\u001b[0m\u001b[1;33m\u001b[0m\u001b[0m\n\u001b[0m",
      "\u001b[1;32m~\\anaconda3\\lib\\site-packages\\seaborn\\categorical.py\u001b[0m in \u001b[0;36mfactorplot\u001b[1;34m(*args, **kwargs)\u001b[0m\n\u001b[0;32m   3722\u001b[0m     \u001b[0mkwargs\u001b[0m\u001b[1;33m.\u001b[0m\u001b[0msetdefault\u001b[0m\u001b[1;33m(\u001b[0m\u001b[1;34m\"kind\"\u001b[0m\u001b[1;33m,\u001b[0m \u001b[1;34m\"point\"\u001b[0m\u001b[1;33m)\u001b[0m\u001b[1;33m\u001b[0m\u001b[1;33m\u001b[0m\u001b[0m\n\u001b[0;32m   3723\u001b[0m \u001b[1;33m\u001b[0m\u001b[0m\n\u001b[1;32m-> 3724\u001b[1;33m     \u001b[1;32mreturn\u001b[0m \u001b[0mcatplot\u001b[0m\u001b[1;33m(\u001b[0m\u001b[1;33m*\u001b[0m\u001b[0margs\u001b[0m\u001b[1;33m,\u001b[0m \u001b[1;33m**\u001b[0m\u001b[0mkwargs\u001b[0m\u001b[1;33m)\u001b[0m\u001b[1;33m\u001b[0m\u001b[1;33m\u001b[0m\u001b[0m\n\u001b[0m\u001b[0;32m   3725\u001b[0m \u001b[1;33m\u001b[0m\u001b[0m\n\u001b[0;32m   3726\u001b[0m \u001b[1;33m\u001b[0m\u001b[0m\n",
      "\u001b[1;32m~\\anaconda3\\lib\\site-packages\\seaborn\\_decorators.py\u001b[0m in \u001b[0;36minner_f\u001b[1;34m(*args, **kwargs)\u001b[0m\n\u001b[0;32m     44\u001b[0m             )\n\u001b[0;32m     45\u001b[0m         \u001b[0mkwargs\u001b[0m\u001b[1;33m.\u001b[0m\u001b[0mupdate\u001b[0m\u001b[1;33m(\u001b[0m\u001b[1;33m{\u001b[0m\u001b[0mk\u001b[0m\u001b[1;33m:\u001b[0m \u001b[0marg\u001b[0m \u001b[1;32mfor\u001b[0m \u001b[0mk\u001b[0m\u001b[1;33m,\u001b[0m \u001b[0marg\u001b[0m \u001b[1;32min\u001b[0m \u001b[0mzip\u001b[0m\u001b[1;33m(\u001b[0m\u001b[0msig\u001b[0m\u001b[1;33m.\u001b[0m\u001b[0mparameters\u001b[0m\u001b[1;33m,\u001b[0m \u001b[0margs\u001b[0m\u001b[1;33m)\u001b[0m\u001b[1;33m}\u001b[0m\u001b[1;33m)\u001b[0m\u001b[1;33m\u001b[0m\u001b[1;33m\u001b[0m\u001b[0m\n\u001b[1;32m---> 46\u001b[1;33m         \u001b[1;32mreturn\u001b[0m \u001b[0mf\u001b[0m\u001b[1;33m(\u001b[0m\u001b[1;33m**\u001b[0m\u001b[0mkwargs\u001b[0m\u001b[1;33m)\u001b[0m\u001b[1;33m\u001b[0m\u001b[1;33m\u001b[0m\u001b[0m\n\u001b[0m\u001b[0;32m     47\u001b[0m     \u001b[1;32mreturn\u001b[0m \u001b[0minner_f\u001b[0m\u001b[1;33m\u001b[0m\u001b[1;33m\u001b[0m\u001b[0m\n\u001b[0;32m     48\u001b[0m \u001b[1;33m\u001b[0m\u001b[0m\n",
      "\u001b[1;32m~\\anaconda3\\lib\\site-packages\\seaborn\\categorical.py\u001b[0m in \u001b[0;36mcatplot\u001b[1;34m(x, y, hue, data, row, col, col_wrap, estimator, ci, n_boot, units, seed, order, hue_order, row_order, col_order, kind, height, aspect, orient, color, palette, legend, legend_out, sharex, sharey, margin_titles, facet_kws, **kwargs)\u001b[0m\n\u001b[0;32m   3787\u001b[0m     \u001b[0mp\u001b[0m \u001b[1;33m=\u001b[0m \u001b[0m_CategoricalPlotter\u001b[0m\u001b[1;33m(\u001b[0m\u001b[1;33m)\u001b[0m\u001b[1;33m\u001b[0m\u001b[1;33m\u001b[0m\u001b[0m\n\u001b[0;32m   3788\u001b[0m     \u001b[0mp\u001b[0m\u001b[1;33m.\u001b[0m\u001b[0mrequire_numeric\u001b[0m \u001b[1;33m=\u001b[0m \u001b[0mplotter_class\u001b[0m\u001b[1;33m.\u001b[0m\u001b[0mrequire_numeric\u001b[0m\u001b[1;33m\u001b[0m\u001b[1;33m\u001b[0m\u001b[0m\n\u001b[1;32m-> 3789\u001b[1;33m     \u001b[0mp\u001b[0m\u001b[1;33m.\u001b[0m\u001b[0mestablish_variables\u001b[0m\u001b[1;33m(\u001b[0m\u001b[0mx_\u001b[0m\u001b[1;33m,\u001b[0m \u001b[0my_\u001b[0m\u001b[1;33m,\u001b[0m \u001b[0mhue\u001b[0m\u001b[1;33m,\u001b[0m \u001b[0mdata\u001b[0m\u001b[1;33m,\u001b[0m \u001b[0morient\u001b[0m\u001b[1;33m,\u001b[0m \u001b[0morder\u001b[0m\u001b[1;33m,\u001b[0m \u001b[0mhue_order\u001b[0m\u001b[1;33m)\u001b[0m\u001b[1;33m\u001b[0m\u001b[1;33m\u001b[0m\u001b[0m\n\u001b[0m\u001b[0;32m   3790\u001b[0m     if (\n\u001b[0;32m   3791\u001b[0m         \u001b[0morder\u001b[0m \u001b[1;32mis\u001b[0m \u001b[1;32mnot\u001b[0m \u001b[1;32mNone\u001b[0m\u001b[1;33m\u001b[0m\u001b[1;33m\u001b[0m\u001b[0m\n",
      "\u001b[1;32m~\\anaconda3\\lib\\site-packages\\seaborn\\categorical.py\u001b[0m in \u001b[0;36mestablish_variables\u001b[1;34m(self, x, y, hue, data, orient, order, hue_order, units)\u001b[0m\n\u001b[0;32m    151\u001b[0m                 \u001b[1;32mif\u001b[0m \u001b[0misinstance\u001b[0m\u001b[1;33m(\u001b[0m\u001b[0mvar\u001b[0m\u001b[1;33m,\u001b[0m \u001b[0mstr\u001b[0m\u001b[1;33m)\u001b[0m\u001b[1;33m:\u001b[0m\u001b[1;33m\u001b[0m\u001b[1;33m\u001b[0m\u001b[0m\n\u001b[0;32m    152\u001b[0m                     \u001b[0merr\u001b[0m \u001b[1;33m=\u001b[0m \u001b[1;34m\"Could not interpret input '{}'\"\u001b[0m\u001b[1;33m.\u001b[0m\u001b[0mformat\u001b[0m\u001b[1;33m(\u001b[0m\u001b[0mvar\u001b[0m\u001b[1;33m)\u001b[0m\u001b[1;33m\u001b[0m\u001b[1;33m\u001b[0m\u001b[0m\n\u001b[1;32m--> 153\u001b[1;33m                     \u001b[1;32mraise\u001b[0m \u001b[0mValueError\u001b[0m\u001b[1;33m(\u001b[0m\u001b[0merr\u001b[0m\u001b[1;33m)\u001b[0m\u001b[1;33m\u001b[0m\u001b[1;33m\u001b[0m\u001b[0m\n\u001b[0m\u001b[0;32m    154\u001b[0m \u001b[1;33m\u001b[0m\u001b[0m\n\u001b[0;32m    155\u001b[0m             \u001b[1;31m# Figure out the plotting orientation\u001b[0m\u001b[1;33m\u001b[0m\u001b[1;33m\u001b[0m\u001b[1;33m\u001b[0m\u001b[0m\n",
      "\u001b[1;31mValueError\u001b[0m: Could not interpret input 'count'"
     ]
    }
   ],
   "source": [
    "import seaborn as sns\n",
    "sns.factorplot(\"NObeyesdad\", \"count\", col=\"CALC\", data=df, kind=\"bar\")\n"
   ]
  },
  {
   "cell_type": "code",
   "execution_count": null,
>>>>>>> Stashed changes
   "id": "59476a4c",
   "metadata": {},
   "outputs": [],
   "source": [
    "from sklearn.model_selection import train_test_split\n",
    "\n",
    "X = df_res.drop(columns=[\"NObeyesdad\"])\n",
    "y = df_res['NObeyesdad'] \n",
    "\n",
    "X_train, X_test, y_train, y_test = train_test_split(X, y, test_size=0.2, random_state=42)"
   ]
  },
  {
   "cell_type": "code",
   "execution_count": 294,
   "id": "b82cc105",
   "metadata": {},
   "outputs": [],
   "source": [
    "from sklearn.preprocessing import MinMaxScaler\n",
    "norm = MinMaxScaler()\n",
    "X_train = norm.fit_transform(X_train)\n",
    "X_test = norm.transform(X_test)"
   ]
  },
  {
   "cell_type": "code",
   "execution_count": 295,
   "id": "7e14e4cd",
   "metadata": {},
   "outputs": [],
   "source": [
    "#split the train\n",
    "X_train, X_val, y_train, y_val = train_test_split(X_train,y_train, test_size=0.2, random_state=42)"
   ]
  },
  {
   "cell_type": "markdown",
   "id": "2db8ebf3",
   "metadata": {},
   "source": [
    "##  Models:\n",
    "\n",
    "\n",
    "* Random Forest\n",
    "* XGBClassifier\n",
    "* KNN"
   ]
  },
  {
   "cell_type": "code",
   "execution_count": 296,
   "id": "f5264486",
   "metadata": {},
   "outputs": [
    {
     "name": "stdout",
     "output_type": "stream",
     "text": [
      "The DummyClassifier score is: 0.157\n"
     ]
    }
   ],
   "source": [
    "# Before we try real models, we will try a dummyClassifier. we will try to get high score than the dummyModel.\n",
    "from sklearn.dummy import DummyClassifier\n",
    "dummy_clf = DummyClassifier(strategy=\"most_frequent\", random_state=42)\n",
    "dummy_clf.fit(X_train, y_train)\n",
    "y_predict = dummy_clf.predict(X_val)\n",
    "print(\"The DummyClassifier score is:\" ,round(dummy_clf.score(y_predict,y_val),3))"
   ]
  },
  {
   "cell_type": "code",
   "execution_count": 297,
   "id": "e6b87a82",
   "metadata": {},
   "outputs": [],
   "source": [
    "from sklearn.metrics import classification_report\n",
    "from sklearn import metrics\n",
    "from sklearn.metrics import accuracy_score, precision_score, recall_score\n",
    "from sklearn.model_selection import cross_val_score\n",
    "from sklearn.model_selection import KFold"
   ]
  },
  {
   "cell_type": "code",
   "execution_count": 253,
   "id": "ee365a15",
   "metadata": {},
   "outputs": [
    {
     "data": {
      "text/plain": [
       "0.846"
      ]
     },
     "execution_count": 253,
     "metadata": {},
     "output_type": "execute_result"
    }
   ],
   "source": [
    "import catboost as ctb\n",
    "\n",
    "CBC = ctb.CatBoostClassifier(random_state=42,verbose=0)\n",
    "CBC.fit(X_train, y_train)\n",
    "y_predict = CBC.predict(X_val)\n",
    "\n",
    "accuracy = metrics.accuracy_score(y_predict,y_val)\n",
    "round(accuracy,3) "
   ]
  },
  {
   "cell_type": "code",
   "execution_count": 219,
   "id": "5259b2a6",
   "metadata": {},
   "outputs": [
    {
     "data": {
      "text/plain": [
       "0.855"
      ]
     },
     "execution_count": 219,
     "metadata": {},
     "output_type": "execute_result"
    }
   ],
   "source": [
    "# build the lightgbm model\n",
    "import lightgbm as lgb\n",
    "clf = lgb.LGBMClassifier()\n",
    "clf.fit(X_train, y_train)\n",
    "y_predict = clf.predict(X_val)\n",
    "\n",
    "accuracy = metrics.accuracy_score(y_predict,y_val)\n",
    "round(accuracy,3) "
   ]
  },
  {
   "cell_type": "markdown",
   "id": "647f2d08",
   "metadata": {},
   "source": [
    "#### RandomForestClassifier"
   ]
  },
  {
   "cell_type": "code",
   "execution_count": 220,
   "id": "37cbfa25",
   "metadata": {},
   "outputs": [
    {
     "name": "stdout",
     "output_type": "stream",
     "text": [
      "Accuracy: 0.825\n"
     ]
    }
   ],
   "source": [
    "from sklearn.ensemble import RandomForestClassifier\n",
    "\n",
    "RF = RandomForestClassifier(random_state=42).fit(X_train, y_train)\n",
    "y_pred = RF.predict(X_val)\n",
    "accuracy = round(metrics.accuracy_score(y_pred,y_val),3)\n",
    "print(\"Accuracy:\",accuracy)"
   ]
  },
  {
   "cell_type": "markdown",
   "id": "4115ade4",
   "metadata": {},
   "source": [
    "##### XGBClassifier"
   ]
  },
  {
   "cell_type": "code",
   "execution_count": 223,
   "id": "5f18270f",
   "metadata": {
    "scrolled": true
   },
   "outputs": [
    {
     "data": {
      "text/plain": [
       "0.849"
      ]
     },
     "execution_count": 223,
     "metadata": {},
     "output_type": "execute_result"
    }
   ],
   "source": [
    "from xgboost import XGBClassifier\n",
    "\n",
    "XGBClassifier = XGBClassifier(objective=\"binary:logistic\", random_state=42,num_class=7,eval_metric='auc')\n",
    "XGBClassifier.fit(X_train,y_train)\n",
    "y_pred = XGBClassifier.predict(X_val)\n",
    "accuracy = accuracy_score(y_pred,y_val)\n",
    "round(accuracy,3)"
   ]
  },
  {
   "cell_type": "markdown",
   "id": "f9e23e7a",
   "metadata": {},
   "source": [
    "#### VotingClassifier:"
   ]
  },
  {
   "cell_type": "code",
   "execution_count": 364,
   "id": "6f4d8dae",
   "metadata": {
    "scrolled": true
   },
   "outputs": [
    {
     "data": {
      "text/html": [
       "<style>#sk-container-id-18 {color: black;background-color: white;}#sk-container-id-18 pre{padding: 0;}#sk-container-id-18 div.sk-toggleable {background-color: white;}#sk-container-id-18 label.sk-toggleable__label {cursor: pointer;display: block;width: 100%;margin-bottom: 0;padding: 0.3em;box-sizing: border-box;text-align: center;}#sk-container-id-18 label.sk-toggleable__label-arrow:before {content: \"▸\";float: left;margin-right: 0.25em;color: #696969;}#sk-container-id-18 label.sk-toggleable__label-arrow:hover:before {color: black;}#sk-container-id-18 div.sk-estimator:hover label.sk-toggleable__label-arrow:before {color: black;}#sk-container-id-18 div.sk-toggleable__content {max-height: 0;max-width: 0;overflow: hidden;text-align: left;background-color: #f0f8ff;}#sk-container-id-18 div.sk-toggleable__content pre {margin: 0.2em;color: black;border-radius: 0.25em;background-color: #f0f8ff;}#sk-container-id-18 input.sk-toggleable__control:checked~div.sk-toggleable__content {max-height: 200px;max-width: 100%;overflow: auto;}#sk-container-id-18 input.sk-toggleable__control:checked~label.sk-toggleable__label-arrow:before {content: \"▾\";}#sk-container-id-18 div.sk-estimator input.sk-toggleable__control:checked~label.sk-toggleable__label {background-color: #d4ebff;}#sk-container-id-18 div.sk-label input.sk-toggleable__control:checked~label.sk-toggleable__label {background-color: #d4ebff;}#sk-container-id-18 input.sk-hidden--visually {border: 0;clip: rect(1px 1px 1px 1px);clip: rect(1px, 1px, 1px, 1px);height: 1px;margin: -1px;overflow: hidden;padding: 0;position: absolute;width: 1px;}#sk-container-id-18 div.sk-estimator {font-family: monospace;background-color: #f0f8ff;border: 1px dotted black;border-radius: 0.25em;box-sizing: border-box;margin-bottom: 0.5em;}#sk-container-id-18 div.sk-estimator:hover {background-color: #d4ebff;}#sk-container-id-18 div.sk-parallel-item::after {content: \"\";width: 100%;border-bottom: 1px solid gray;flex-grow: 1;}#sk-container-id-18 div.sk-label:hover label.sk-toggleable__label {background-color: #d4ebff;}#sk-container-id-18 div.sk-serial::before {content: \"\";position: absolute;border-left: 1px solid gray;box-sizing: border-box;top: 0;bottom: 0;left: 50%;z-index: 0;}#sk-container-id-18 div.sk-serial {display: flex;flex-direction: column;align-items: center;background-color: white;padding-right: 0.2em;padding-left: 0.2em;position: relative;}#sk-container-id-18 div.sk-item {position: relative;z-index: 1;}#sk-container-id-18 div.sk-parallel {display: flex;align-items: stretch;justify-content: center;background-color: white;position: relative;}#sk-container-id-18 div.sk-item::before, #sk-container-id-18 div.sk-parallel-item::before {content: \"\";position: absolute;border-left: 1px solid gray;box-sizing: border-box;top: 0;bottom: 0;left: 50%;z-index: -1;}#sk-container-id-18 div.sk-parallel-item {display: flex;flex-direction: column;z-index: 1;position: relative;background-color: white;}#sk-container-id-18 div.sk-parallel-item:first-child::after {align-self: flex-end;width: 50%;}#sk-container-id-18 div.sk-parallel-item:last-child::after {align-self: flex-start;width: 50%;}#sk-container-id-18 div.sk-parallel-item:only-child::after {width: 0;}#sk-container-id-18 div.sk-dashed-wrapped {border: 1px dashed gray;margin: 0 0.4em 0.5em 0.4em;box-sizing: border-box;padding-bottom: 0.4em;background-color: white;}#sk-container-id-18 div.sk-label label {font-family: monospace;font-weight: bold;display: inline-block;line-height: 1.2em;}#sk-container-id-18 div.sk-label-container {text-align: center;}#sk-container-id-18 div.sk-container {/* jupyter's `normalize.less` sets `[hidden] { display: none; }` but bootstrap.min.css set `[hidden] { display: none !important; }` so we also need the `!important` here to be able to override the default hidden behavior on the sphinx rendered scikit-learn.org. See: https://github.com/scikit-learn/scikit-learn/issues/21755 */display: inline-block !important;position: relative;}#sk-container-id-18 div.sk-text-repr-fallback {display: none;}</style><div id=\"sk-container-id-18\" class=\"sk-top-container\"><div class=\"sk-text-repr-fallback\"><pre>VotingClassifier(estimators=[(&#x27;lgb&#x27;, LGBMClassifier()),\n",
       "                             (&#x27;XGB&#x27;,\n",
       "                              XGBClassifier(base_score=None, booster=None,\n",
       "                                            colsample_bylevel=None,\n",
       "                                            colsample_bynode=None,\n",
       "                                            colsample_bytree=None,\n",
       "                                            enable_categorical=False,\n",
       "                                            eval_metric=&#x27;auc&#x27;, gamma=None,\n",
       "                                            gpu_id=None, importance_type=None,\n",
       "                                            interaction_constraints=None,\n",
       "                                            learning_rate=None,\n",
       "                                            max_delta_step=None, max_depth=None,\n",
       "                                            min_child...\n",
       "                                            num_class=7, num_parallel_tree=None,\n",
       "                                            predictor=None, random_state=None,\n",
       "                                            reg_alpha=None, reg_lambda=None,\n",
       "                                            scale_pos_weight=None,\n",
       "                                            subsample=None, tree_method=None,\n",
       "                                            validate_parameters=None,\n",
       "                                            verbosity=None)),\n",
       "                             (&#x27;rnd&#x27;, RandomForestClassifier()),\n",
       "                             (&#x27;dt&#x27;, DecisionTreeClassifier()),\n",
       "                             (&#x27;lr&#x27;, LogisticRegression()),\n",
       "                             (&#x27;knn&#x27;, KNeighborsClassifier())],\n",
       "                 n_jobs=-1, verbose=True, voting=&#x27;soft&#x27;,\n",
       "                 weights=[4, 4, 1, 0, 0, 0])</pre><b>In a Jupyter environment, please rerun this cell to show the HTML representation or trust the notebook. <br />On GitHub, the HTML representation is unable to render, please try loading this page with nbviewer.org.</b></div><div class=\"sk-container\" hidden><div class=\"sk-item sk-dashed-wrapped\"><div class=\"sk-label-container\"><div class=\"sk-label sk-toggleable\"><input class=\"sk-toggleable__control sk-hidden--visually\" id=\"sk-estimator-id-127\" type=\"checkbox\" ><label for=\"sk-estimator-id-127\" class=\"sk-toggleable__label sk-toggleable__label-arrow\">VotingClassifier</label><div class=\"sk-toggleable__content\"><pre>VotingClassifier(estimators=[(&#x27;lgb&#x27;, LGBMClassifier()),\n",
       "                             (&#x27;XGB&#x27;,\n",
       "                              XGBClassifier(base_score=None, booster=None,\n",
       "                                            colsample_bylevel=None,\n",
       "                                            colsample_bynode=None,\n",
       "                                            colsample_bytree=None,\n",
       "                                            enable_categorical=False,\n",
       "                                            eval_metric=&#x27;auc&#x27;, gamma=None,\n",
       "                                            gpu_id=None, importance_type=None,\n",
       "                                            interaction_constraints=None,\n",
       "                                            learning_rate=None,\n",
       "                                            max_delta_step=None, max_depth=None,\n",
       "                                            min_child...\n",
       "                                            num_class=7, num_parallel_tree=None,\n",
       "                                            predictor=None, random_state=None,\n",
       "                                            reg_alpha=None, reg_lambda=None,\n",
       "                                            scale_pos_weight=None,\n",
       "                                            subsample=None, tree_method=None,\n",
       "                                            validate_parameters=None,\n",
       "                                            verbosity=None)),\n",
       "                             (&#x27;rnd&#x27;, RandomForestClassifier()),\n",
       "                             (&#x27;dt&#x27;, DecisionTreeClassifier()),\n",
       "                             (&#x27;lr&#x27;, LogisticRegression()),\n",
       "                             (&#x27;knn&#x27;, KNeighborsClassifier())],\n",
       "                 n_jobs=-1, verbose=True, voting=&#x27;soft&#x27;,\n",
       "                 weights=[4, 4, 1, 0, 0, 0])</pre></div></div></div><div class=\"sk-parallel\"><div class=\"sk-parallel-item\"><div class=\"sk-item\"><div class=\"sk-label-container\"><div class=\"sk-label sk-toggleable\"><label>lgb</label></div></div><div class=\"sk-serial\"><div class=\"sk-item\"><div class=\"sk-estimator sk-toggleable\"><input class=\"sk-toggleable__control sk-hidden--visually\" id=\"sk-estimator-id-128\" type=\"checkbox\" ><label for=\"sk-estimator-id-128\" class=\"sk-toggleable__label sk-toggleable__label-arrow\">LGBMClassifier</label><div class=\"sk-toggleable__content\"><pre>LGBMClassifier()</pre></div></div></div></div></div></div><div class=\"sk-parallel-item\"><div class=\"sk-item\"><div class=\"sk-label-container\"><div class=\"sk-label sk-toggleable\"><label>XGB</label></div></div><div class=\"sk-serial\"><div class=\"sk-item\"><div class=\"sk-estimator sk-toggleable\"><input class=\"sk-toggleable__control sk-hidden--visually\" id=\"sk-estimator-id-129\" type=\"checkbox\" ><label for=\"sk-estimator-id-129\" class=\"sk-toggleable__label sk-toggleable__label-arrow\">XGBClassifier</label><div class=\"sk-toggleable__content\"><pre>XGBClassifier(base_score=None, booster=None, colsample_bylevel=None,\n",
       "              colsample_bynode=None, colsample_bytree=None,\n",
       "              enable_categorical=False, eval_metric=&#x27;auc&#x27;, gamma=None,\n",
       "              gpu_id=None, importance_type=None, interaction_constraints=None,\n",
       "              learning_rate=None, max_delta_step=None, max_depth=None,\n",
       "              min_child_weight=None, missing=nan, monotone_constraints=None,\n",
       "              n_estimators=100, n_jobs=None, num_class=7,\n",
       "              num_parallel_tree=None, predictor=None, random_state=None,\n",
       "              reg_alpha=None, reg_lambda=None, scale_pos_weight=None,\n",
       "              subsample=None, tree_method=None, validate_parameters=None,\n",
       "              verbosity=None)</pre></div></div></div></div></div></div><div class=\"sk-parallel-item\"><div class=\"sk-item\"><div class=\"sk-label-container\"><div class=\"sk-label sk-toggleable\"><label>rnd</label></div></div><div class=\"sk-serial\"><div class=\"sk-item\"><div class=\"sk-estimator sk-toggleable\"><input class=\"sk-toggleable__control sk-hidden--visually\" id=\"sk-estimator-id-130\" type=\"checkbox\" ><label for=\"sk-estimator-id-130\" class=\"sk-toggleable__label sk-toggleable__label-arrow\">RandomForestClassifier</label><div class=\"sk-toggleable__content\"><pre>RandomForestClassifier()</pre></div></div></div></div></div></div><div class=\"sk-parallel-item\"><div class=\"sk-item\"><div class=\"sk-label-container\"><div class=\"sk-label sk-toggleable\"><label>dt</label></div></div><div class=\"sk-serial\"><div class=\"sk-item\"><div class=\"sk-estimator sk-toggleable\"><input class=\"sk-toggleable__control sk-hidden--visually\" id=\"sk-estimator-id-131\" type=\"checkbox\" ><label for=\"sk-estimator-id-131\" class=\"sk-toggleable__label sk-toggleable__label-arrow\">DecisionTreeClassifier</label><div class=\"sk-toggleable__content\"><pre>DecisionTreeClassifier()</pre></div></div></div></div></div></div><div class=\"sk-parallel-item\"><div class=\"sk-item\"><div class=\"sk-label-container\"><div class=\"sk-label sk-toggleable\"><label>lr</label></div></div><div class=\"sk-serial\"><div class=\"sk-item\"><div class=\"sk-estimator sk-toggleable\"><input class=\"sk-toggleable__control sk-hidden--visually\" id=\"sk-estimator-id-132\" type=\"checkbox\" ><label for=\"sk-estimator-id-132\" class=\"sk-toggleable__label sk-toggleable__label-arrow\">LogisticRegression</label><div class=\"sk-toggleable__content\"><pre>LogisticRegression()</pre></div></div></div></div></div></div><div class=\"sk-parallel-item\"><div class=\"sk-item\"><div class=\"sk-label-container\"><div class=\"sk-label sk-toggleable\"><label>knn</label></div></div><div class=\"sk-serial\"><div class=\"sk-item\"><div class=\"sk-estimator sk-toggleable\"><input class=\"sk-toggleable__control sk-hidden--visually\" id=\"sk-estimator-id-133\" type=\"checkbox\" ><label for=\"sk-estimator-id-133\" class=\"sk-toggleable__label sk-toggleable__label-arrow\">KNeighborsClassifier</label><div class=\"sk-toggleable__content\"><pre>KNeighborsClassifier()</pre></div></div></div></div></div></div></div></div></div></div>"
      ],
      "text/plain": [
       "VotingClassifier(estimators=[('lgb', LGBMClassifier()),\n",
       "                             ('XGB',\n",
       "                              XGBClassifier(base_score=None, booster=None,\n",
       "                                            colsample_bylevel=None,\n",
       "                                            colsample_bynode=None,\n",
       "                                            colsample_bytree=None,\n",
       "                                            enable_categorical=False,\n",
       "                                            eval_metric='auc', gamma=None,\n",
       "                                            gpu_id=None, importance_type=None,\n",
       "                                            interaction_constraints=None,\n",
       "                                            learning_rate=None,\n",
       "                                            max_delta_step=None, max_depth=None,\n",
       "                                            min_child...\n",
       "                                            num_class=7, num_parallel_tree=None,\n",
       "                                            predictor=None, random_state=None,\n",
       "                                            reg_alpha=None, reg_lambda=None,\n",
       "                                            scale_pos_weight=None,\n",
       "                                            subsample=None, tree_method=None,\n",
       "                                            validate_parameters=None,\n",
       "                                            verbosity=None)),\n",
       "                             ('rnd', RandomForestClassifier()),\n",
       "                             ('dt', DecisionTreeClassifier()),\n",
       "                             ('lr', LogisticRegression()),\n",
       "                             ('knn', KNeighborsClassifier())],\n",
       "                 n_jobs=-1, verbose=True, voting='soft',\n",
       "                 weights=[4, 4, 1, 0, 0, 0])"
      ]
     },
     "execution_count": 364,
     "metadata": {},
     "output_type": "execute_result"
    }
   ],
   "source": [
    "from sklearn.neighbors import KNeighborsClassifier \n",
    "from sklearn.ensemble import VotingClassifier\n",
    "from sklearn.linear_model import LogisticRegression\n",
    "from sklearn.tree import DecisionTreeClassifier\n",
    "from sklearn.ensemble import RandomForestClassifier\n",
    "from xgboost import XGBClassifier\n",
    "import lightgbm as lgb\n",
    "\n",
    "lgb = lgb.LGBMClassifier()\n",
    "CBC = ctb.CatBoostClassifier(verbose=0)\n",
    "dt_clf = DecisionTreeClassifier()\n",
    "log_clf = LogisticRegression()\n",
    "knn_clf = KNeighborsClassifier()\n",
    "rnd_clf = RandomForestClassifier()\n",
    "XGBClassifier = XGBClassifier(objective=\"binary:logistic\",num_class=7,eval_metric='auc')\n",
    "\n",
    "voting_clf = VotingClassifier(estimators=[('lgb', lgb),('XGB', XGBClassifier),('rnd',rnd_clf),('dt',dt_clf)\n",
    "                                          ,('lr', log_clf), ('knn', knn_clf)\n",
    "                                          ],voting='soft',n_jobs=-1,weights=[4,4,1,0,0,0],\n",
    "                             verbose=True)\n",
    "voting_clf.fit(X_train, y_train)"
   ]
  },
  {
   "cell_type": "code",
   "execution_count": 365,
   "id": "731596ab",
   "metadata": {
    "scrolled": true
   },
   "outputs": [
    {
     "name": "stdout",
     "output_type": "stream",
     "text": [
      "LGBMClassifier 0.846\n",
      "XGBClassifier 0.855\n",
      "RandomForestClassifier 0.814\n",
      "DecisionTreeClassifier 0.746\n",
      "LogisticRegression 0.586\n",
      "KNeighborsClassifier 0.713\n",
      "VotingClassifier 0.855\n"
     ]
    }
   ],
   "source": [
    "for clf in (lgb,XGBClassifier, rnd_clf, dt_clf, log_clf, knn_clf, voting_clf):\n",
    "    clf.fit(X_train, y_train)\n",
    "    y_pred = clf.predict(X_val)\n",
    "    print(clf.__class__.__name__, round(accuracy_score(y_val, y_pred),3))"
   ]
  },
  {
   "cell_type": "code",
   "execution_count": 366,
   "id": "cc529e51",
   "metadata": {},
   "outputs": [
    {
     "data": {
      "image/png": "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\n",
      "text/plain": [
       "<Figure size 576x396 with 2 Axes>"
      ]
     },
     "metadata": {},
     "output_type": "display_data"
    }
   ],
   "source": [
    "from sklearn.metrics import confusion_matrix\n",
    "\n",
    "cf_matrix = confusion_matrix(y_val, y_pred)\n",
    "ax = sns.heatmap(cf_matrix, annot=True, fmt='', cmap='PuRd')\n",
    "ax.set_title('Confusion Matrix\\n');\n",
    "ax.set_xlabel('\\nPredicted Values')\n",
    "ax.set_ylabel('Actual Values ');\n",
    "ax.xaxis.set_ticklabels(['Insufficient_Weight','Normal_Weight', 'Overweight_Level_I','Overweight_Level_II',\n",
    "                         'Obesity_Type_I','Obesity_Type_II','Obesity_Type_III'],rotation=90)\n",
    "ax.yaxis.set_ticklabels(['Insufficient_Weight','Normal_Weight','Overweight_Level_I','Overweight_Level_II',\n",
    "                        'Obesity_Type_I','Obesity_Type_II','Obesity_Type_III'],rotation=0)\n",
    "plt.show()"
   ]
  },
  {
   "cell_type": "markdown",
   "id": "3443f762",
   "metadata": {},
   "source": [
    "### RandomizedSearchCV:"
   ]
  },
  {
   "cell_type": "code",
   "execution_count": 314,
   "id": "5d93d76e",
   "metadata": {},
   "outputs": [],
   "source": [
    "#Searching for better performance out of the models with RandomizedSearch\n",
    "from sklearn.model_selection import RandomizedSearchCV"
   ]
  },
  {
   "cell_type": "code",
   "execution_count": 40,
   "id": "7b69a423",
   "metadata": {
    "scrolled": true
   },
   "outputs": [
    {
     "name": "stdout",
     "output_type": "stream",
     "text": [
      "Fitting 10 folds for each of 50 candidates, totalling 500 fits\n",
      "0.84\n",
      "{'subsample': 1, 'n_estimators': 170, 'min_child_weight': 1, 'max_depth': 18, 'learning_rate': 0.1, 'colsample_bytree': 0.5}\n"
     ]
    }
   ],
   "source": [
    "#XGBClassifier\n",
    "from xgboost import XGBClassifier\n",
    "\n",
    "parameters = {\n",
    "        'learning_rate': [ 0.1,0.3,0.03],\n",
    "        'max_depth': [int(x) for x in range(1, 20)],\n",
    "        'min_child_weight': [1, 2],\n",
    "        'subsample': [0.5,0.6,1],\n",
    "        'colsample_bytree': [0.3,0.5, 0.7],\n",
    "        'n_estimators' : [100,150,170,200]\n",
    "         }\n",
    "XGBClassifier = XGBClassifier(objective=\"binary:logistic\",num_class=7,eval_metric='auc')\n",
    "random_XGB = RandomizedSearchCV(XGBClassifier,parameters, n_jobs=-1, \n",
    "                          cv = kf,random_state=42, n_iter = 50, verbose = True)\n",
    "random_XGB.fit(X_train,y_train)\n",
    "y_pred_XGB_random = random_XGB.predict(X_val)\n",
    "print(round(metrics.accuracy_score(y_val,y_pred_XGB_random),3))\n",
    "print (random_XGB.best_params_)"
   ]
  },
  {
   "cell_type": "code",
   "execution_count": null,
   "id": "47e70f24",
   "metadata": {},
   "outputs": [],
   "source": []
  },
  {
   "cell_type": "code",
   "execution_count": null,
   "id": "1495cedd",
   "metadata": {},
   "outputs": [],
   "source": []
  }
 ],
 "metadata": {
  "kernelspec": {
   "display_name": "Python 3",
   "language": "python",
   "name": "python3"
  },
  "language_info": {
   "codemirror_mode": {
    "name": "ipython",
    "version": 3
   },
   "file_extension": ".py",
   "mimetype": "text/x-python",
   "name": "python",
   "nbconvert_exporter": "python",
   "pygments_lexer": "ipython3",
   "version": "3.8.8"
  }
 },
 "nbformat": 4,
 "nbformat_minor": 5
}
