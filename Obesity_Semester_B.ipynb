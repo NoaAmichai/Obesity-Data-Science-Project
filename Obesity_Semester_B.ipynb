{
 "cells": [
  {
   "cell_type": "markdown",
   "id": "c009fccd",
   "metadata": {},
   "source": [
    "### Obesity - Classification (Semester B)\n"
   ]
  },
  {
   "cell_type": "code",
   "execution_count": 7,
   "id": "63d63508",
   "metadata": {},
   "outputs": [],
   "source": [
    "import pandas as pd\n",
    "import numpy as np\n",
    "%matplotlib inline\n",
    "import matplotlib.pyplot as plt\n",
    "import seaborn as sns\n",
    "from bokeh.plotting import figure, output_file, show\n",
    "from bokeh.palettes import magma\n",
    "import matplotlib.cm as cm \n",
    "import plotly.express as px\n",
    "import warnings\n",
    "warnings.filterwarnings('ignore')\n",
    "\n",
    "\n",
    "np.set_printoptions(precision=7)"
   ]
  },
  {
   "cell_type": "code",
   "execution_count": 8,
   "id": "9834f89d",
   "metadata": {},
   "outputs": [
    {
     "data": {
      "text/html": [
       "<div>\n",
       "<style scoped>\n",
       "    .dataframe tbody tr th:only-of-type {\n",
       "        vertical-align: middle;\n",
       "    }\n",
       "\n",
       "    .dataframe tbody tr th {\n",
       "        vertical-align: top;\n",
       "    }\n",
       "\n",
       "    .dataframe thead th {\n",
       "        text-align: right;\n",
       "    }\n",
       "</style>\n",
       "<table border=\"1\" class=\"dataframe\">\n",
       "  <thead>\n",
       "    <tr style=\"text-align: right;\">\n",
       "      <th></th>\n",
       "      <th>Gender</th>\n",
       "      <th>Age</th>\n",
       "      <th>Height</th>\n",
       "      <th>Weight</th>\n",
       "      <th>family_history_with_overweight</th>\n",
       "      <th>FAVC</th>\n",
       "      <th>FCVC</th>\n",
       "      <th>NCP</th>\n",
       "      <th>CAEC</th>\n",
       "      <th>SMOKE</th>\n",
       "      <th>CH2O</th>\n",
       "      <th>SCC</th>\n",
       "      <th>FAF</th>\n",
       "      <th>TUE</th>\n",
       "      <th>CALC</th>\n",
       "      <th>MTRANS</th>\n",
       "      <th>NObeyesdad</th>\n",
       "    </tr>\n",
       "  </thead>\n",
       "  <tbody>\n",
       "    <tr>\n",
       "      <th>0</th>\n",
       "      <td>Female</td>\n",
       "      <td>21.0</td>\n",
       "      <td>1.62</td>\n",
       "      <td>64.0</td>\n",
       "      <td>yes</td>\n",
       "      <td>no</td>\n",
       "      <td>2.0</td>\n",
       "      <td>3.0</td>\n",
       "      <td>Sometimes</td>\n",
       "      <td>no</td>\n",
       "      <td>2.0</td>\n",
       "      <td>no</td>\n",
       "      <td>0.0</td>\n",
       "      <td>1.0</td>\n",
       "      <td>no</td>\n",
       "      <td>Public_Transportation</td>\n",
       "      <td>Normal_Weight</td>\n",
       "    </tr>\n",
       "    <tr>\n",
       "      <th>1</th>\n",
       "      <td>Female</td>\n",
       "      <td>21.0</td>\n",
       "      <td>1.52</td>\n",
       "      <td>56.0</td>\n",
       "      <td>yes</td>\n",
       "      <td>no</td>\n",
       "      <td>3.0</td>\n",
       "      <td>3.0</td>\n",
       "      <td>Sometimes</td>\n",
       "      <td>yes</td>\n",
       "      <td>3.0</td>\n",
       "      <td>yes</td>\n",
       "      <td>3.0</td>\n",
       "      <td>0.0</td>\n",
       "      <td>Sometimes</td>\n",
       "      <td>Public_Transportation</td>\n",
       "      <td>Normal_Weight</td>\n",
       "    </tr>\n",
       "    <tr>\n",
       "      <th>2</th>\n",
       "      <td>Male</td>\n",
       "      <td>23.0</td>\n",
       "      <td>1.80</td>\n",
       "      <td>77.0</td>\n",
       "      <td>yes</td>\n",
       "      <td>no</td>\n",
       "      <td>2.0</td>\n",
       "      <td>3.0</td>\n",
       "      <td>Sometimes</td>\n",
       "      <td>no</td>\n",
       "      <td>2.0</td>\n",
       "      <td>no</td>\n",
       "      <td>2.0</td>\n",
       "      <td>1.0</td>\n",
       "      <td>Frequently</td>\n",
       "      <td>Public_Transportation</td>\n",
       "      <td>Normal_Weight</td>\n",
       "    </tr>\n",
       "  </tbody>\n",
       "</table>\n",
       "</div>"
      ],
      "text/plain": [
       "   Gender   Age  Height  Weight family_history_with_overweight FAVC  FCVC  \\\n",
       "0  Female  21.0    1.62    64.0                            yes   no   2.0   \n",
       "1  Female  21.0    1.52    56.0                            yes   no   3.0   \n",
       "2    Male  23.0    1.80    77.0                            yes   no   2.0   \n",
       "\n",
       "   NCP       CAEC SMOKE  CH2O  SCC  FAF  TUE        CALC  \\\n",
       "0  3.0  Sometimes    no   2.0   no  0.0  1.0          no   \n",
       "1  3.0  Sometimes   yes   3.0  yes  3.0  0.0   Sometimes   \n",
       "2  3.0  Sometimes    no   2.0   no  2.0  1.0  Frequently   \n",
       "\n",
       "                  MTRANS     NObeyesdad  \n",
       "0  Public_Transportation  Normal_Weight  \n",
       "1  Public_Transportation  Normal_Weight  \n",
       "2  Public_Transportation  Normal_Weight  "
      ]
     },
     "execution_count": 8,
     "metadata": {},
     "output_type": "execute_result"
    }
   ],
   "source": [
    "df = pd.read_csv(\"ObesityDataSet_raw_and_data_sinthetic.csv\")\n",
    "df.head(3)"
   ]
  },
  {
   "cell_type": "markdown",
   "id": "7d388a4e",
   "metadata": {},
   "source": [
    "בסמסטר הקודם הורדנו רק את עמודת המשקל מכיוון שייש לה קשר ישיר ל-בי-אמ-איי. בשיפור העבודה ננסה להוריד גם את עומדת הגובה שכן גם לה יש קשר חזק ל-בי-אמ-איי.\n",
    "בסמסטר הקודם המודלים שלנו בעיקר התקשו להגדיר מהו אדם רגיל ומהו אדם עם אוביסטי סוג 3. \n",
    "ננסה להבין מה יוצר את הקושי וכימד נוכל לעזור למודלים שלנו לסווג בצורה טובה יותר.\n",
    "בסמסטר הקודם, מדד הדיוק הגבוהה ביותר שהיה לנו הוא 81%. ננסה להשיג ציון טוב יותר או לפחות לנסות שמודלים שלנו לא יטעו בצורה קיצונית (כמו להגדיר אדם כאובוסטי סוג 3 כאשר בפועל הוא בתת משקל)\n"
   ]
  },
  {
   "cell_type": "code",
   "execution_count": 9,
   "id": "86a2615c",
   "metadata": {},
   "outputs": [
    {
     "name": "stdout",
     "output_type": "stream",
     "text": [
      "<class 'pandas.core.frame.DataFrame'>\n",
      "RangeIndex: 2111 entries, 0 to 2110\n",
      "Data columns (total 17 columns):\n",
      " #   Column                          Non-Null Count  Dtype  \n",
      "---  ------                          --------------  -----  \n",
      " 0   Gender                          2111 non-null   object \n",
      " 1   Age                             2111 non-null   float64\n",
      " 2   Height                          2111 non-null   float64\n",
      " 3   Weight                          2111 non-null   float64\n",
      " 4   family_history_with_overweight  2111 non-null   object \n",
      " 5   FAVC                            2111 non-null   object \n",
      " 6   FCVC                            2111 non-null   float64\n",
      " 7   NCP                             2111 non-null   float64\n",
      " 8   CAEC                            2111 non-null   object \n",
      " 9   SMOKE                           2111 non-null   object \n",
      " 10  CH2O                            2111 non-null   float64\n",
      " 11  SCC                             2111 non-null   object \n",
      " 12  FAF                             2111 non-null   float64\n",
      " 13  TUE                             2111 non-null   float64\n",
      " 14  CALC                            2111 non-null   object \n",
      " 15  MTRANS                          2111 non-null   object \n",
      " 16  NObeyesdad                      2111 non-null   object \n",
      "dtypes: float64(8), object(9)\n",
      "memory usage: 280.5+ KB\n"
     ]
    }
   ],
   "source": [
    "df.info()"
   ]
  },
  {
   "cell_type": "code",
   "execution_count": 10,
   "id": "626f9c27",
   "metadata": {},
   "outputs": [],
   "source": [
    "#Other than 'Age', 'Weight' and 'Height' there is no reason for the other numeric columns to be 'float'. We'll change it.\n",
    "columns = [\"NCP\", \"CH2O\", \"TUE\", \"FAF\",\"FCVC\"]\n",
    "for col in columns:\n",
    "    df[col] = round(df[col]).astype('int')"
   ]
  },
  {
   "cell_type": "code",
   "execution_count": 70,
   "id": "f8fad169",
   "metadata": {},
   "outputs": [],
   "source": [
    "Insufficient_Weight = df.loc[df.NObeyesdad == \"Insufficient_Weight\"]\n",
    "Obesity_Type_II = df.loc[df.NObeyesdad == \"Obesity_Type_II\"]\n",
    "Obesity_Type_III = df.loc[df.NObeyesdad == \"Obesity_Type_III\"]"
   ]
  },
  {
   "cell_type": "code",
   "execution_count": 205,
   "id": "033bf1a8",
   "metadata": {},
   "outputs": [
    {
     "data": {
      "text/plain": [
       "<AxesSubplot:xlabel='FCVC', ylabel='Count'>"
      ]
     },
     "execution_count": 205,
     "metadata": {},
     "output_type": "execute_result"
    },
    {
     "data": {
      "image/png": "[encoded data removed]",
      "text/plain": [
       "<Figure size 432x288 with 1 Axes>"
      ]
     },
     "metadata": {
      "needs_background": "light"
     },
     "output_type": "display_data"
    }
   ],
   "source": [
    "\n",
    "sns.histplot(data=Insufficient_Weight.FCVC,color= \"green\",element=\"step\",discrete = False)\n",
    "sns.histplot(data=Obesity_Type_II.FCVC,color= \"red\",element=\"step\",discrete = False)\n",
    "sns.histplot(data=Obesity_Type_III.FCVC,color= \"yellow\",element=\"step\",discrete = False)\n"
   ]
  },
  {
   "cell_type": "code",
   "execution_count": 198,
   "id": "5a0ece55",
   "metadata": {},
   "outputs": [
    {
     "data": {
      "image/png": "[encoded data removed]",
      "text/plain": [
       "<Figure size 432x288 with 2 Axes>"
      ]
     },
     "metadata": {
      "needs_background": "light"
     },
     "output_type": "display_data"
    }
   ],
   "source": [
    "sns.heatmap(Insufficient_Weight.corr(), annot=True)\n",
    "plt.show()"
   ]
  },
  {
   "cell_type": "code",
   "execution_count": 84,
   "id": "c478eeeb",
   "metadata": {},
   "outputs": [
    {
     "data": {
      "text/html": [
       "<div>\n",
       "<style scoped>\n",
       "    .dataframe tbody tr th:only-of-type {\n",
       "        vertical-align: middle;\n",
       "    }\n",
       "\n",
       "    .dataframe tbody tr th {\n",
       "        vertical-align: top;\n",
       "    }\n",
       "\n",
       "    .dataframe thead th {\n",
       "        text-align: right;\n",
       "    }\n",
       "</style>\n",
       "<table border=\"1\" class=\"dataframe\">\n",
       "  <thead>\n",
       "    <tr style=\"text-align: right;\">\n",
       "      <th></th>\n",
       "      <th>family_history_with_overweight</th>\n",
       "    </tr>\n",
       "  </thead>\n",
       "  <tbody>\n",
       "    <tr>\n",
       "      <th>no</th>\n",
       "      <td>146</td>\n",
       "    </tr>\n",
       "    <tr>\n",
       "      <th>yes</th>\n",
       "      <td>126</td>\n",
       "    </tr>\n",
       "  </tbody>\n",
       "</table>\n",
       "</div>"
      ],
      "text/plain": [
       "     family_history_with_overweight\n",
       "no                              146\n",
       "yes                             126"
      ]
     },
     "execution_count": 84,
     "metadata": {},
     "output_type": "execute_result"
    }
   ],
   "source": [
    "pd.DataFrame(Insufficient_Weight.family_history_with_overweight.value_counts())"
   ]
  },
  {
   "cell_type": "code",
   "execution_count": 82,
   "id": "bd35d1b6",
   "metadata": {},
   "outputs": [
    {
     "data": {
      "text/plain": [
       "yes    296\n",
       "no       1\n",
       "Name: family_history_with_overweight, dtype: int64"
      ]
     },
     "execution_count": 82,
     "metadata": {},
     "output_type": "execute_result"
    }
   ],
   "source": [
    "Obesity_Type_II.family_history_with_overweight.value_counts()"
   ]
  },
  {
   "cell_type": "code",
   "execution_count": 83,
   "id": "599a5229",
   "metadata": {},
   "outputs": [
    {
     "data": {
      "text/plain": [
       "yes    324\n",
       "Name: family_history_with_overweight, dtype: int64"
      ]
     },
     "execution_count": 83,
     "metadata": {},
     "output_type": "execute_result"
    }
   ],
   "source": [
    "Obesity_Type_III.family_history_with_overweight.value_counts()"
   ]
  },
  {
   "cell_type": "code",
   "execution_count": 166,
   "id": "5e136504",
   "metadata": {},
   "outputs": [],
   "source": [
    "Type_III =Obesity_Type_III.describe(include='O').iloc[2:4]\n",
    "Type_II =Obesity_Type_II.describe(include='O').iloc[2:4]\n",
    "Insufficient_Weight_describe = Insufficient_Weight.describe(include='O').iloc[2:4]"
   ]
  },
  {
   "cell_type": "code",
   "execution_count": 167,
   "id": "ad448342",
   "metadata": {},
   "outputs": [
    {
     "data": {
      "text/html": [
       "<div>\n",
       "<style scoped>\n",
       "    .dataframe tbody tr th:only-of-type {\n",
       "        vertical-align: middle;\n",
       "    }\n",
       "\n",
       "    .dataframe tbody tr th {\n",
       "        vertical-align: top;\n",
       "    }\n",
       "\n",
       "    .dataframe thead th {\n",
       "        text-align: right;\n",
       "    }\n",
       "</style>\n",
       "<table border=\"1\" class=\"dataframe\">\n",
       "  <thead>\n",
       "    <tr style=\"text-align: right;\">\n",
       "      <th></th>\n",
       "      <th></th>\n",
       "      <th>Gender</th>\n",
       "      <th>family_history_with_overweight</th>\n",
       "      <th>FAVC</th>\n",
       "      <th>CAEC</th>\n",
       "      <th>SMOKE</th>\n",
       "      <th>SCC</th>\n",
       "      <th>CALC</th>\n",
       "      <th>MTRANS</th>\n",
       "      <th>NObeyesdad</th>\n",
       "    </tr>\n",
       "  </thead>\n",
       "  <tbody>\n",
       "    <tr>\n",
       "      <th rowspan=\"2\" valign=\"top\">Obesity_Type_III</th>\n",
       "      <th>top</th>\n",
       "      <td>Female</td>\n",
       "      <td>yes</td>\n",
       "      <td>yes</td>\n",
       "      <td>Sometimes</td>\n",
       "      <td>no</td>\n",
       "      <td>no</td>\n",
       "      <td>Sometimes</td>\n",
       "      <td>Public_Transportation</td>\n",
       "      <td>Obesity_Type_III</td>\n",
       "    </tr>\n",
       "    <tr>\n",
       "      <th>freq</th>\n",
       "      <td>323</td>\n",
       "      <td>324</td>\n",
       "      <td>323</td>\n",
       "      <td>323</td>\n",
       "      <td>323</td>\n",
       "      <td>324</td>\n",
       "      <td>323</td>\n",
       "      <td>323</td>\n",
       "      <td>324</td>\n",
       "    </tr>\n",
       "    <tr>\n",
       "      <th rowspan=\"2\" valign=\"top\">Obesity_Type_II</th>\n",
       "      <th>top</th>\n",
       "      <td>Male</td>\n",
       "      <td>yes</td>\n",
       "      <td>yes</td>\n",
       "      <td>Sometimes</td>\n",
       "      <td>no</td>\n",
       "      <td>no</td>\n",
       "      <td>Sometimes</td>\n",
       "      <td>Public_Transportation</td>\n",
       "      <td>Obesity_Type_II</td>\n",
       "    </tr>\n",
       "    <tr>\n",
       "      <th>freq</th>\n",
       "      <td>295</td>\n",
       "      <td>296</td>\n",
       "      <td>290</td>\n",
       "      <td>293</td>\n",
       "      <td>282</td>\n",
       "      <td>296</td>\n",
       "      <td>224</td>\n",
       "      <td>200</td>\n",
       "      <td>297</td>\n",
       "    </tr>\n",
       "    <tr>\n",
       "      <th rowspan=\"2\" valign=\"top\">Insufficient_Weight</th>\n",
       "      <th>top</th>\n",
       "      <td>Female</td>\n",
       "      <td>no</td>\n",
       "      <td>yes</td>\n",
       "      <td>Sometimes</td>\n",
       "      <td>no</td>\n",
       "      <td>no</td>\n",
       "      <td>Sometimes</td>\n",
       "      <td>Public_Transportation</td>\n",
       "      <td>Insufficient_Weight</td>\n",
       "    </tr>\n",
       "    <tr>\n",
       "      <th>freq</th>\n",
       "      <td>173</td>\n",
       "      <td>146</td>\n",
       "      <td>221</td>\n",
       "      <td>146</td>\n",
       "      <td>271</td>\n",
       "      <td>250</td>\n",
       "      <td>154</td>\n",
       "      <td>220</td>\n",
       "      <td>272</td>\n",
       "    </tr>\n",
       "  </tbody>\n",
       "</table>\n",
       "</div>"
      ],
      "text/plain": [
       "                          Gender family_history_with_overweight FAVC  \\\n",
       "Obesity_Type_III    top   Female                            yes  yes   \n",
       "                    freq     323                            324  323   \n",
       "Obesity_Type_II     top     Male                            yes  yes   \n",
       "                    freq     295                            296  290   \n",
       "Insufficient_Weight top   Female                             no  yes   \n",
       "                    freq     173                            146  221   \n",
       "\n",
       "                               CAEC SMOKE  SCC       CALC  \\\n",
       "Obesity_Type_III    top   Sometimes    no   no  Sometimes   \n",
       "                    freq        323   323  324        323   \n",
       "Obesity_Type_II     top   Sometimes    no   no  Sometimes   \n",
       "                    freq        293   282  296        224   \n",
       "Insufficient_Weight top   Sometimes    no   no  Sometimes   \n",
       "                    freq        146   271  250        154   \n",
       "\n",
       "                                         MTRANS           NObeyesdad  \n",
       "Obesity_Type_III    top   Public_Transportation     Obesity_Type_III  \n",
       "                    freq                    323                  324  \n",
       "Obesity_Type_II     top   Public_Transportation      Obesity_Type_II  \n",
       "                    freq                    200                  297  \n",
       "Insufficient_Weight top   Public_Transportation  Insufficient_Weight  \n",
       "                    freq                    220                  272  "
      ]
     },
     "execution_count": 167,
     "metadata": {},
     "output_type": "execute_result"
    }
   ],
   "source": [
    "pd.concat([Type_III, Type_II,Insufficient_Weight_describe],\n",
    "          axis=0,keys=[\"Obesity_Type_III\",\"Obesity_Type_II\",\"Insufficient_Weight\"])"
   ]
  },
  {
   "cell_type": "code",
   "execution_count": 191,
   "id": "87b3f12e",
   "metadata": {},
   "outputs": [
    {
     "data": {
      "text/plain": [
       "<AxesSubplot:xlabel='MTRANS', ylabel='Count'>"
      ]
     },
     "execution_count": 191,
     "metadata": {},
     "output_type": "execute_result"
    },
    {
     "data": {
      "image/png": "[encoded data removed]",
      "text/plain": [
       "<Figure size 432x288 with 1 Axes>"
      ]
     },
     "metadata": {
      "needs_background": "light"
     },
     "output_type": "display_data"
    }
   ],
   "source": [
    "sns.histplot(data=Insufficient_Weight.MTRANS,color= \"green\",element=\"step\",discrete = False)\n",
    "sns.histplot(data=Obesity_Type_II.MTRANS,color=\"red\",element=\"step\",discrete = False)\n",
    "sns.histplot(data=Obesity_Type_III.MTRANS,color=\"yellow\",element=\"step\",discrete = False)"
   ]
  },
  {
   "cell_type": "code",
   "execution_count": null,
   "id": "0b3b934f",
   "metadata": {},
   "outputs": [],
   "source": []
  },
  {
   "cell_type": "code",
   "execution_count": 168,
   "id": "cb799ded",
   "metadata": {},
   "outputs": [
    {
     "data": {
      "text/html": [
       "<div>\n",
       "<style scoped>\n",
       "    .dataframe tbody tr th:only-of-type {\n",
       "        vertical-align: middle;\n",
       "    }\n",
       "\n",
       "    .dataframe tbody tr th {\n",
       "        vertical-align: top;\n",
       "    }\n",
       "\n",
       "    .dataframe thead th {\n",
       "        text-align: right;\n",
       "    }\n",
       "</style>\n",
       "<table border=\"1\" class=\"dataframe\">\n",
       "  <thead>\n",
       "    <tr style=\"text-align: right;\">\n",
       "      <th></th>\n",
       "      <th>Age</th>\n",
       "      <th>Height</th>\n",
       "      <th>Weight</th>\n",
       "      <th>FCVC</th>\n",
       "      <th>NCP</th>\n",
       "      <th>CH2O</th>\n",
       "      <th>FAF</th>\n",
       "      <th>TUE</th>\n",
       "    </tr>\n",
       "  </thead>\n",
       "  <tbody>\n",
       "    <tr>\n",
       "      <th>count</th>\n",
       "      <td>272.000000</td>\n",
       "      <td>272.000000</td>\n",
       "      <td>272.00000</td>\n",
       "      <td>272.000000</td>\n",
       "      <td>272.000000</td>\n",
       "      <td>272.000000</td>\n",
       "      <td>272.000000</td>\n",
       "      <td>272.000000</td>\n",
       "    </tr>\n",
       "    <tr>\n",
       "      <th>mean</th>\n",
       "      <td>19.783237</td>\n",
       "      <td>1.691117</td>\n",
       "      <td>49.90633</td>\n",
       "      <td>2.514706</td>\n",
       "      <td>2.926471</td>\n",
       "      <td>1.860294</td>\n",
       "      <td>1.246324</td>\n",
       "      <td>0.841912</td>\n",
       "    </tr>\n",
       "  </tbody>\n",
       "</table>\n",
       "</div>"
      ],
      "text/plain": [
       "              Age      Height     Weight        FCVC         NCP        CH2O  \\\n",
       "count  272.000000  272.000000  272.00000  272.000000  272.000000  272.000000   \n",
       "mean    19.783237    1.691117   49.90633    2.514706    2.926471    1.860294   \n",
       "\n",
       "              FAF         TUE  \n",
       "count  272.000000  272.000000  \n",
       "mean     1.246324    0.841912  "
      ]
     },
     "execution_count": 168,
     "metadata": {},
     "output_type": "execute_result"
    }
   ],
   "source": [
    "Insufficient_Weight.describe().iloc[:2]"
   ]
  },
  {
   "cell_type": "code",
   "execution_count": 5,
   "id": "72fb899e",
   "metadata": {
    "scrolled": false
   },
   "outputs": [
    {
     "data": {
      "text/html": [
       "<div>\n",
       "<style scoped>\n",
       "    .dataframe tbody tr th:only-of-type {\n",
       "        vertical-align: middle;\n",
       "    }\n",
       "\n",
       "    .dataframe tbody tr th {\n",
       "        vertical-align: top;\n",
       "    }\n",
       "\n",
       "    .dataframe thead th {\n",
       "        text-align: right;\n",
       "    }\n",
       "</style>\n",
       "<table border=\"1\" class=\"dataframe\">\n",
       "  <thead>\n",
       "    <tr style=\"text-align: right;\">\n",
       "      <th></th>\n",
       "      <th>Age</th>\n",
       "      <th>Height</th>\n",
       "      <th>Weight</th>\n",
       "      <th>NObeyesdad</th>\n",
       "      <th>Gender_Female</th>\n",
       "      <th>Gender_Male</th>\n",
       "      <th>family_history_with_overweight_no</th>\n",
       "      <th>family_history_with_overweight_yes</th>\n",
       "      <th>FAVC_no</th>\n",
       "      <th>FAVC_yes</th>\n",
       "      <th>...</th>\n",
       "      <th>FAF_1</th>\n",
       "      <th>FAF_2</th>\n",
       "      <th>FAF_3</th>\n",
       "      <th>TUE_0</th>\n",
       "      <th>TUE_1</th>\n",
       "      <th>TUE_2</th>\n",
       "      <th>CALC_Always</th>\n",
       "      <th>CALC_Frequently</th>\n",
       "      <th>CALC_Sometimes</th>\n",
       "      <th>CALC_no</th>\n",
       "    </tr>\n",
       "  </thead>\n",
       "  <tbody>\n",
       "    <tr>\n",
       "      <th>0</th>\n",
       "      <td>21.0</td>\n",
       "      <td>1.62</td>\n",
       "      <td>64.0</td>\n",
       "      <td>Normal_Weight</td>\n",
       "      <td>1</td>\n",
       "      <td>0</td>\n",
       "      <td>0</td>\n",
       "      <td>1</td>\n",
       "      <td>1</td>\n",
       "      <td>0</td>\n",
       "      <td>...</td>\n",
       "      <td>0</td>\n",
       "      <td>0</td>\n",
       "      <td>0</td>\n",
       "      <td>0</td>\n",
       "      <td>1</td>\n",
       "      <td>0</td>\n",
       "      <td>0</td>\n",
       "      <td>0</td>\n",
       "      <td>0</td>\n",
       "      <td>1</td>\n",
       "    </tr>\n",
       "    <tr>\n",
       "      <th>1</th>\n",
       "      <td>21.0</td>\n",
       "      <td>1.52</td>\n",
       "      <td>56.0</td>\n",
       "      <td>Normal_Weight</td>\n",
       "      <td>1</td>\n",
       "      <td>0</td>\n",
       "      <td>0</td>\n",
       "      <td>1</td>\n",
       "      <td>1</td>\n",
       "      <td>0</td>\n",
       "      <td>...</td>\n",
       "      <td>0</td>\n",
       "      <td>0</td>\n",
       "      <td>1</td>\n",
       "      <td>1</td>\n",
       "      <td>0</td>\n",
       "      <td>0</td>\n",
       "      <td>0</td>\n",
       "      <td>0</td>\n",
       "      <td>1</td>\n",
       "      <td>0</td>\n",
       "    </tr>\n",
       "    <tr>\n",
       "      <th>2</th>\n",
       "      <td>23.0</td>\n",
       "      <td>1.80</td>\n",
       "      <td>77.0</td>\n",
       "      <td>Normal_Weight</td>\n",
       "      <td>0</td>\n",
       "      <td>1</td>\n",
       "      <td>0</td>\n",
       "      <td>1</td>\n",
       "      <td>1</td>\n",
       "      <td>0</td>\n",
       "      <td>...</td>\n",
       "      <td>0</td>\n",
       "      <td>1</td>\n",
       "      <td>0</td>\n",
       "      <td>0</td>\n",
       "      <td>1</td>\n",
       "      <td>0</td>\n",
       "      <td>0</td>\n",
       "      <td>1</td>\n",
       "      <td>0</td>\n",
       "      <td>0</td>\n",
       "    </tr>\n",
       "  </tbody>\n",
       "</table>\n",
       "<p>3 rows × 44 columns</p>\n",
       "</div>"
      ],
      "text/plain": [
       "    Age  Height  Weight     NObeyesdad  Gender_Female  Gender_Male  \\\n",
       "0  21.0    1.62    64.0  Normal_Weight              1            0   \n",
       "1  21.0    1.52    56.0  Normal_Weight              1            0   \n",
       "2  23.0    1.80    77.0  Normal_Weight              0            1   \n",
       "\n",
       "   family_history_with_overweight_no  family_history_with_overweight_yes  \\\n",
       "0                                  0                                   1   \n",
       "1                                  0                                   1   \n",
       "2                                  0                                   1   \n",
       "\n",
       "   FAVC_no  FAVC_yes  ...  FAF_1  FAF_2  FAF_3  TUE_0  TUE_1  TUE_2  \\\n",
       "0        1         0  ...      0      0      0      0      1      0   \n",
       "1        1         0  ...      0      0      1      1      0      0   \n",
       "2        1         0  ...      0      1      0      0      1      0   \n",
       "\n",
       "   CALC_Always  CALC_Frequently  CALC_Sometimes  CALC_no  \n",
       "0            0                0               0        1  \n",
       "1            0                0               1        0  \n",
       "2            0                1               0        0  \n",
       "\n",
       "[3 rows x 44 columns]"
      ]
     },
     "execution_count": 5,
     "metadata": {},
     "output_type": "execute_result"
    }
   ],
   "source": [
    "df_res = df.copy(deep=True)\n",
    "df_res = pd.get_dummies(df, columns=['Gender','family_history_with_overweight','FAVC','SMOKE',\n",
    "                                     'SCC','MTRANS','FCVC','NCP','CAEC','CH2O','FAF','TUE','CALC'])\n",
    "df_res.head(3)"
   ]
  },
  {
   "cell_type": "code",
   "execution_count": 6,
   "id": "a2b99f9b",
   "metadata": {},
   "outputs": [],
   "source": [
    "df_res.drop(columns=['Weight'],inplace=True)"
   ]
  },
  {
   "cell_type": "code",
   "execution_count": 7,
   "id": "59476a4c",
   "metadata": {},
   "outputs": [],
   "source": [
    "from sklearn.model_selection import train_test_split\n",
    "X = df_res.drop(columns=[\"NObeyesdad\"])\n",
    "y = df_res['NObeyesdad'] \n",
    "X_train, X_test, y_train, y_test = train_test_split(X, y, test_size=0.3, random_state=42,shuffle=True)"
   ]
  },
  {
   "cell_type": "code",
   "execution_count": 8,
   "id": "b82cc105",
   "metadata": {},
   "outputs": [],
   "source": [
    "from sklearn.preprocessing import MinMaxScaler\n",
    "norm = MinMaxScaler()\n",
    "X_train_norm = norm.fit_transform(X_train)\n",
    "X_test_norm = norm.transform(X_test)"
   ]
  },
  {
   "cell_type": "markdown",
   "id": "2db8ebf3",
   "metadata": {},
   "source": [
    "##  Models:\n",
    "\n",
    "\n",
    "* Random Forest\n",
    "* XGBClassifier\n",
    "* KNN"
   ]
  },
  {
   "cell_type": "code",
   "execution_count": 9,
   "id": "f5264486",
   "metadata": {},
   "outputs": [
    {
     "name": "stdout",
     "output_type": "stream",
     "text": [
      "The DummyClassifier score is: 0.1608832807570978\n"
     ]
    }
   ],
   "source": [
    "# Before we try real models, we will try a dummyClassifier. we will try to get high score than the dummyModel.\n",
    "from sklearn.dummy import DummyClassifier\n",
    "dummy_clf = DummyClassifier(strategy=\"most_frequent\", random_state=0)\n",
    "dummy_clf.fit(X_train_norm, y_train)\n",
    "dummy_clf.predict(X_train_norm)\n",
    "print(\"The DummyClassifier score is:\" ,dummy_clf.score(X_test_norm, y_test))"
   ]
  },
  {
   "cell_type": "code",
   "execution_count": 10,
   "id": "e6b87a82",
   "metadata": {},
   "outputs": [],
   "source": [
    "from sklearn.metrics import classification_report\n",
    "from sklearn import metrics\n",
    "from sklearn.metrics import accuracy_score, precision_score, recall_score\n",
    "from sklearn.model_selection import cross_val_score\n",
    "from sklearn.model_selection import KFold"
   ]
  },
  {
   "cell_type": "code",
   "execution_count": 11,
   "id": "dbdd0157",
   "metadata": {},
   "outputs": [],
   "source": [
    "# split the data to 10 folds\n",
    "kf= KFold(n_splits=10, random_state=42, shuffle=True)"
   ]
  },
  {
   "cell_type": "markdown",
   "id": "647f2d08",
   "metadata": {},
   "source": [
    "#### RandomForestClassifier"
   ]
  },
  {
   "cell_type": "code",
   "execution_count": 31,
   "id": "37cbfa25",
   "metadata": {},
   "outputs": [
    {
     "name": "stdout",
     "output_type": "stream",
     "text": [
      "Accuracy: 0.804\n"
     ]
    }
   ],
   "source": [
    "from sklearn.ensemble import RandomForestClassifier\n",
    "\n",
    "RF = RandomForestClassifier(random_state=42).fit(X_train_norm, y_train)\n",
    "y_pred = RF.predict(X_test_norm)\n",
    "norm_accuracy = round(metrics.accuracy_score(y_test, y_pred),3)\n",
    "print(\"Accuracy:\", norm_accuracy)"
   ]
  },
  {
   "cell_type": "code",
   "execution_count": 32,
   "id": "d139d822",
   "metadata": {
    "scrolled": true
   },
   "outputs": [
    {
     "data": {
      "text/plain": [
       "0.823"
      ]
     },
     "execution_count": 32,
     "metadata": {},
     "output_type": "execute_result"
    }
   ],
   "source": [
    "from sklearn.ensemble import RandomForestClassifier\n",
    "\n",
    "RForest = RandomForestClassifier(random_state=42)\n",
    "random_forest= cross_val_score(RForest, X_train_norm, y_train, cv=kf, scoring='accuracy').mean()\n",
    "round(random_forest,3)"
   ]
  },
  {
   "cell_type": "markdown",
   "id": "4115ade4",
   "metadata": {},
   "source": [
    "##### XGBClassifier"
   ]
  },
  {
   "cell_type": "code",
   "execution_count": 34,
   "id": "3ad2d99f",
   "metadata": {
    "scrolled": true
   },
   "outputs": [
    {
     "data": {
      "text/plain": [
       "0.835"
      ]
     },
     "execution_count": 34,
     "metadata": {},
     "output_type": "execute_result"
    }
   ],
   "source": [
    "from xgboost import XGBClassifier\n",
    "\n",
    "XGBClassifier = XGBClassifier(objective=\"binary:logistic\", random_state=42,num_class=7,eval_metric='auc')\n",
    "XGB = cross_val_score(XGBClassifier, X_train_norm,y_train, cv=kf, scoring='accuracy').mean()\n",
    "round(XGB,3)"
   ]
  },
  {
   "cell_type": "code",
   "execution_count": 52,
   "id": "5f18270f",
   "metadata": {},
   "outputs": [
    {
     "data": {
      "text/plain": [
       "0.8091482649842271"
      ]
     },
     "execution_count": 52,
     "metadata": {},
     "output_type": "execute_result"
    }
   ],
   "source": [
    "from xgboost import XGBClassifier\n",
    "\n",
    "XGBClassifier = XGBClassifier(objective=\"binary:logistic\", random_state=42,num_class=7,eval_metric='auc')\n",
    "XGBClassifier.fit(X_train_norm,y_train)\n",
    "y_pred = XGBClassifier.predict(X_test_norm)\n",
    "scores = accuracy_score(y_test,y_pred)\n",
    "scores"
   ]
  },
  {
   "cell_type": "code",
   "execution_count": null,
   "id": "82d124b3",
   "metadata": {},
   "outputs": [],
   "source": []
  },
  {
   "cell_type": "code",
   "execution_count": null,
   "id": "ce17ce70",
   "metadata": {},
   "outputs": [],
   "source": []
  },
  {
   "cell_type": "code",
   "execution_count": 14,
   "id": "5d93d76e",
   "metadata": {},
   "outputs": [],
   "source": [
    "#Searching for better performance out of the models with RandomizedSearch\n",
    "from sklearn.model_selection import RandomizedSearchCV"
   ]
  },
  {
   "cell_type": "code",
   "execution_count": 16,
   "id": "4685d846",
   "metadata": {},
   "outputs": [
    {
     "name": "stdout",
     "output_type": "stream",
     "text": [
      "Fitting 10 folds for each of 300 candidates, totalling 3000 fits\n",
      "0.8123028391167192\n",
      "{'n_estimators': 163, 'max_depth': 19, 'criterion': 'entropy'}\n"
     ]
    }
   ],
   "source": [
    "parameters = {'criterion':['gini','entropy'],\n",
    "               'n_estimators': [int(x) for x in range(10, 400)],\n",
    "               'max_depth':[int(x) for x in range(1, 20)]}\n",
    "random_RF = RandomizedSearchCV(RandomForestClassifier(), parameters,verbose=True, n_jobs=-1,\n",
    "                        cv=kf, random_state=42,n_iter=300,scoring='accuracy')\n",
    "random_RF.fit(X_train_norm,y_train)\n",
    "y_pred_RF = random_RF.predict(X_test_norm)\n",
    "print(metrics.accuracy_score(y_test,y_pred_RF))\n",
    "print (random_RF.best_params_)"
   ]
  },
  {
   "cell_type": "code",
   "execution_count": 100,
   "id": "7b69a423",
   "metadata": {
    "scrolled": true
   },
   "outputs": [
    {
     "name": "stdout",
     "output_type": "stream",
     "text": [
      "Fitting 5 folds for each of 50 candidates, totalling 250 fits\n",
      "0.8138801261829653\n",
      "{'subsample': 1, 'n_estimators': 150, 'min_child_weight': 1, 'max_depth': 20, 'learning_rate': 0.3, 'colsample_bytree': 0.7}\n"
     ]
    }
   ],
   "source": [
    "#XGBClassifier\n",
    "\n",
    "parameters = {\n",
    "        'learning_rate': [ 0.1,0.3,0.03],\n",
    "        'max_depth': [6,10,15,20],\n",
    "        'min_child_weight': [1, 2],\n",
    "        'subsample': [0.5,0.6,1],\n",
    "        'colsample_bytree': [0.3,0.5, 0.7],\n",
    "        'n_estimators' : [100,150,170,200]\n",
    "         }\n",
    "\n",
    "random_XGB = RandomizedSearchCV(XGBClassifier(eval_metric='acu'),parameters, n_jobs=-1, \n",
    "                          random_state=42, n_iter = 50, verbose = True)\n",
    "random_XGB.fit(X_train_norm,y_train, eval_metric='auc')\n",
    "y_pred_XGB_random = random_XGB.predict(X_test_norm)\n",
    "print(metrics.accuracy_score(y_test,y_pred_XGB_random))\n",
    "print (random_XGB.best_params_)"
   ]
  },
  {
   "cell_type": "code",
   "execution_count": 113,
   "id": "a1a59bc8",
   "metadata": {},
   "outputs": [],
   "source": []
  },
  {
   "cell_type": "code",
   "execution_count": null,
   "id": "6f4d8dae",
   "metadata": {},
   "outputs": [],
   "source": []
  },
  {
   "cell_type": "code",
   "execution_count": null,
   "id": "731596ab",
   "metadata": {},
   "outputs": [],
   "source": []
  }
 ],
 "metadata": {
  "kernelspec": {
   "display_name": "Python 3 (ipykernel)",
   "language": "python",
   "name": "python3"
  },
  "language_info": {
   "codemirror_mode": {
    "name": "ipython",
    "version": 3
   },
   "file_extension": ".py",
   "mimetype": "text/x-python",
   "name": "python",
   "nbconvert_exporter": "python",
   "pygments_lexer": "ipython3",
   "version": "3.9.12"
  }
 },
 "nbformat": 4,
 "nbformat_minor": 5
}
