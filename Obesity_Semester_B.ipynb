{
 "cells": [
  {
   "cell_type": "markdown",
   "id": "c009fccd",
   "metadata": {},
   "source": [
    "### Obesity - Classification (Semester B)\n"
   ]
  },
  {
   "cell_type": "code",
   "execution_count": 91,
   "id": "63d63508",
   "metadata": {},
   "outputs": [],
   "source": [
    "import pandas as pd\n",
    "import numpy as np\n",
    "%matplotlib inline\n",
    "import matplotlib.pyplot as plt\n",
    "import seaborn as sns\n",
    "from bokeh.plotting import figure, output_file, show\n",
    "from bokeh.palettes import magma\n",
    "import matplotlib.cm as cm \n",
    "import plotly.express as px\n",
    "import warnings\n",
    "warnings.filterwarnings('ignore')\n",
    "\n",
    "\n",
    "np.set_printoptions(precision=5)\n",
    "#show 5 number after decimal point "
   ]
  },
  {
   "cell_type": "code",
   "execution_count": 92,
   "id": "9834f89d",
   "metadata": {},
   "outputs": [
    {
     "data": {
      "text/html": [
       "<div>\n",
       "<style scoped>\n",
       "    .dataframe tbody tr th:only-of-type {\n",
       "        vertical-align: middle;\n",
       "    }\n",
       "\n",
       "    .dataframe tbody tr th {\n",
       "        vertical-align: top;\n",
       "    }\n",
       "\n",
       "    .dataframe thead th {\n",
       "        text-align: right;\n",
       "    }\n",
       "</style>\n",
       "<table border=\"1\" class=\"dataframe\">\n",
       "  <thead>\n",
       "    <tr style=\"text-align: right;\">\n",
       "      <th></th>\n",
       "      <th>Gender</th>\n",
       "      <th>Age</th>\n",
       "      <th>Height</th>\n",
       "      <th>Weight</th>\n",
       "      <th>family_history_with_overweight</th>\n",
       "      <th>FAVC</th>\n",
       "      <th>FCVC</th>\n",
       "      <th>NCP</th>\n",
       "      <th>CAEC</th>\n",
       "      <th>SMOKE</th>\n",
       "      <th>CH2O</th>\n",
       "      <th>SCC</th>\n",
       "      <th>FAF</th>\n",
       "      <th>TUE</th>\n",
       "      <th>CALC</th>\n",
       "      <th>MTRANS</th>\n",
       "      <th>NObeyesdad</th>\n",
       "    </tr>\n",
       "  </thead>\n",
       "  <tbody>\n",
       "    <tr>\n",
       "      <th>0</th>\n",
       "      <td>Female</td>\n",
       "      <td>21.0</td>\n",
       "      <td>1.62</td>\n",
       "      <td>64.0</td>\n",
       "      <td>yes</td>\n",
       "      <td>no</td>\n",
       "      <td>2.0</td>\n",
       "      <td>3.0</td>\n",
       "      <td>Sometimes</td>\n",
       "      <td>no</td>\n",
       "      <td>2.0</td>\n",
       "      <td>no</td>\n",
       "      <td>0.0</td>\n",
       "      <td>1.0</td>\n",
       "      <td>no</td>\n",
       "      <td>Public_Transportation</td>\n",
       "      <td>Normal_Weight</td>\n",
       "    </tr>\n",
       "    <tr>\n",
       "      <th>1</th>\n",
       "      <td>Female</td>\n",
       "      <td>21.0</td>\n",
       "      <td>1.52</td>\n",
       "      <td>56.0</td>\n",
       "      <td>yes</td>\n",
       "      <td>no</td>\n",
       "      <td>3.0</td>\n",
       "      <td>3.0</td>\n",
       "      <td>Sometimes</td>\n",
       "      <td>yes</td>\n",
       "      <td>3.0</td>\n",
       "      <td>yes</td>\n",
       "      <td>3.0</td>\n",
       "      <td>0.0</td>\n",
       "      <td>Sometimes</td>\n",
       "      <td>Public_Transportation</td>\n",
       "      <td>Normal_Weight</td>\n",
       "    </tr>\n",
       "    <tr>\n",
       "      <th>2</th>\n",
       "      <td>Male</td>\n",
       "      <td>23.0</td>\n",
       "      <td>1.80</td>\n",
       "      <td>77.0</td>\n",
       "      <td>yes</td>\n",
       "      <td>no</td>\n",
       "      <td>2.0</td>\n",
       "      <td>3.0</td>\n",
       "      <td>Sometimes</td>\n",
       "      <td>no</td>\n",
       "      <td>2.0</td>\n",
       "      <td>no</td>\n",
       "      <td>2.0</td>\n",
       "      <td>1.0</td>\n",
       "      <td>Frequently</td>\n",
       "      <td>Public_Transportation</td>\n",
       "      <td>Normal_Weight</td>\n",
       "    </tr>\n",
       "  </tbody>\n",
       "</table>\n",
       "</div>"
      ],
      "text/plain": [
       "   Gender   Age  Height  Weight family_history_with_overweight FAVC  FCVC  \\\n",
       "0  Female  21.0    1.62    64.0                            yes   no   2.0   \n",
       "1  Female  21.0    1.52    56.0                            yes   no   3.0   \n",
       "2    Male  23.0    1.80    77.0                            yes   no   2.0   \n",
       "\n",
       "   NCP       CAEC SMOKE  CH2O  SCC  FAF  TUE        CALC  \\\n",
       "0  3.0  Sometimes    no   2.0   no  0.0  1.0          no   \n",
       "1  3.0  Sometimes   yes   3.0  yes  3.0  0.0   Sometimes   \n",
       "2  3.0  Sometimes    no   2.0   no  2.0  1.0  Frequently   \n",
       "\n",
       "                  MTRANS     NObeyesdad  \n",
       "0  Public_Transportation  Normal_Weight  \n",
       "1  Public_Transportation  Normal_Weight  \n",
       "2  Public_Transportation  Normal_Weight  "
      ]
     },
     "execution_count": 92,
     "metadata": {},
     "output_type": "execute_result"
    }
   ],
   "source": [
    "df = pd.read_csv(\"ObesityDataSet_raw_and_data_sinthetic.csv\")\n",
    "df.head(3)"
   ]
  },
  {
   "cell_type": "markdown",
   "id": "7d388a4e",
   "metadata": {},
   "source": [
    "בסמסטר הקודם הורדנו רק את עמודת המשקל מכיוון שייש לה קשר ישיר ל-בי-אמ-איי. בשיפור העבודה ננסה להוריד גם את עומדת הגובה שכן גם לה יש קשר חזק ל-בי-אמ-איי.\n",
    "בסמסטר הקודם המודלים שלנו בעיקר התקשו להגדיר מהו אדם רגיל ומהו אדם עם אוביסטי סוג 3. \n",
    "ננסה להבין מה יוצר את הקושי וכימד נוכל לעזור למודלים שלנו לסווג בצורה טובה יותר.\n",
    "בסמסטר הקודם, מדד הדיוק הגבוהה ביותר שהיה לנו הוא 81%. ננסה להשיג ציון טוב יותר או לפחות לנסות שמודלים שלנו לא יטעו בצורה קיצונית (כמו להגדיר אדם כאובוסטי סוג 3 כאשר בפועל הוא בתת משקל)\n"
   ]
  },
  {
   "cell_type": "code",
   "execution_count": 93,
   "id": "86a2615c",
   "metadata": {},
   "outputs": [
    {
     "name": "stdout",
     "output_type": "stream",
     "text": [
      "<class 'pandas.core.frame.DataFrame'>\n",
      "RangeIndex: 2111 entries, 0 to 2110\n",
      "Data columns (total 17 columns):\n",
      " #   Column                          Non-Null Count  Dtype  \n",
      "---  ------                          --------------  -----  \n",
      " 0   Gender                          2111 non-null   object \n",
      " 1   Age                             2111 non-null   float64\n",
      " 2   Height                          2111 non-null   float64\n",
      " 3   Weight                          2111 non-null   float64\n",
      " 4   family_history_with_overweight  2111 non-null   object \n",
      " 5   FAVC                            2111 non-null   object \n",
      " 6   FCVC                            2111 non-null   float64\n",
      " 7   NCP                             2111 non-null   float64\n",
      " 8   CAEC                            2111 non-null   object \n",
      " 9   SMOKE                           2111 non-null   object \n",
      " 10  CH2O                            2111 non-null   float64\n",
      " 11  SCC                             2111 non-null   object \n",
      " 12  FAF                             2111 non-null   float64\n",
      " 13  TUE                             2111 non-null   float64\n",
      " 14  CALC                            2111 non-null   object \n",
      " 15  MTRANS                          2111 non-null   object \n",
      " 16  NObeyesdad                      2111 non-null   object \n",
      "dtypes: float64(8), object(9)\n",
      "memory usage: 280.5+ KB\n"
     ]
    }
   ],
   "source": [
    "df.info()"
   ]
  },
  {
   "cell_type": "code",
   "execution_count": null,
   "id": "4ca2917a",
   "metadata": {},
   "outputs": [],
   "source": []
  },
  {
   "cell_type": "code",
   "execution_count": 94,
   "id": "626f9c27",
   "metadata": {},
   "outputs": [],
   "source": [
    "#Other than 'Age', 'Weight' and 'Height' there is no reason for the other numeric columns to be 'float'. We'll change it.\n",
    "columns = [\"NCP\", \"CH2O\", \"TUE\", \"FAF\",\"FCVC\"]\n",
    "for col in columns:\n",
    "    df[col] = round(df[col]).astype('int')"
   ]
  },
  {
   "cell_type": "code",
   "execution_count": 95,
   "id": "72fb899e",
   "metadata": {},
   "outputs": [
    {
     "data": {
      "text/html": [
       "<div>\n",
       "<style scoped>\n",
       "    .dataframe tbody tr th:only-of-type {\n",
       "        vertical-align: middle;\n",
       "    }\n",
       "\n",
       "    .dataframe tbody tr th {\n",
       "        vertical-align: top;\n",
       "    }\n",
       "\n",
       "    .dataframe thead th {\n",
       "        text-align: right;\n",
       "    }\n",
       "</style>\n",
       "<table border=\"1\" class=\"dataframe\">\n",
       "  <thead>\n",
       "    <tr style=\"text-align: right;\">\n",
       "      <th></th>\n",
       "      <th>Age</th>\n",
       "      <th>Height</th>\n",
       "      <th>Weight</th>\n",
       "      <th>NObeyesdad</th>\n",
       "      <th>Gender_Female</th>\n",
       "      <th>Gender_Male</th>\n",
       "      <th>family_history_with_overweight_no</th>\n",
       "      <th>family_history_with_overweight_yes</th>\n",
       "      <th>FAVC_no</th>\n",
       "      <th>FAVC_yes</th>\n",
       "      <th>...</th>\n",
       "      <th>FAF_1</th>\n",
       "      <th>FAF_2</th>\n",
       "      <th>FAF_3</th>\n",
       "      <th>TUE_0</th>\n",
       "      <th>TUE_1</th>\n",
       "      <th>TUE_2</th>\n",
       "      <th>CALC_Always</th>\n",
       "      <th>CALC_Frequently</th>\n",
       "      <th>CALC_Sometimes</th>\n",
       "      <th>CALC_no</th>\n",
       "    </tr>\n",
       "  </thead>\n",
       "  <tbody>\n",
       "    <tr>\n",
       "      <th>0</th>\n",
       "      <td>21.0</td>\n",
       "      <td>1.62</td>\n",
       "      <td>64.0</td>\n",
       "      <td>Normal_Weight</td>\n",
       "      <td>1</td>\n",
       "      <td>0</td>\n",
       "      <td>0</td>\n",
       "      <td>1</td>\n",
       "      <td>1</td>\n",
       "      <td>0</td>\n",
       "      <td>...</td>\n",
       "      <td>0</td>\n",
       "      <td>0</td>\n",
       "      <td>0</td>\n",
       "      <td>0</td>\n",
       "      <td>1</td>\n",
       "      <td>0</td>\n",
       "      <td>0</td>\n",
       "      <td>0</td>\n",
       "      <td>0</td>\n",
       "      <td>1</td>\n",
       "    </tr>\n",
       "    <tr>\n",
       "      <th>1</th>\n",
       "      <td>21.0</td>\n",
       "      <td>1.52</td>\n",
       "      <td>56.0</td>\n",
       "      <td>Normal_Weight</td>\n",
       "      <td>1</td>\n",
       "      <td>0</td>\n",
       "      <td>0</td>\n",
       "      <td>1</td>\n",
       "      <td>1</td>\n",
       "      <td>0</td>\n",
       "      <td>...</td>\n",
       "      <td>0</td>\n",
       "      <td>0</td>\n",
       "      <td>1</td>\n",
       "      <td>1</td>\n",
       "      <td>0</td>\n",
       "      <td>0</td>\n",
       "      <td>0</td>\n",
       "      <td>0</td>\n",
       "      <td>1</td>\n",
       "      <td>0</td>\n",
       "    </tr>\n",
       "    <tr>\n",
       "      <th>2</th>\n",
       "      <td>23.0</td>\n",
       "      <td>1.80</td>\n",
       "      <td>77.0</td>\n",
       "      <td>Normal_Weight</td>\n",
       "      <td>0</td>\n",
       "      <td>1</td>\n",
       "      <td>0</td>\n",
       "      <td>1</td>\n",
       "      <td>1</td>\n",
       "      <td>0</td>\n",
       "      <td>...</td>\n",
       "      <td>0</td>\n",
       "      <td>1</td>\n",
       "      <td>0</td>\n",
       "      <td>0</td>\n",
       "      <td>1</td>\n",
       "      <td>0</td>\n",
       "      <td>0</td>\n",
       "      <td>1</td>\n",
       "      <td>0</td>\n",
       "      <td>0</td>\n",
       "    </tr>\n",
       "  </tbody>\n",
       "</table>\n",
       "<p>3 rows × 44 columns</p>\n",
       "</div>"
      ],
      "text/plain": [
       "    Age  Height  Weight     NObeyesdad  Gender_Female  Gender_Male  \\\n",
       "0  21.0    1.62    64.0  Normal_Weight              1            0   \n",
       "1  21.0    1.52    56.0  Normal_Weight              1            0   \n",
       "2  23.0    1.80    77.0  Normal_Weight              0            1   \n",
       "\n",
       "   family_history_with_overweight_no  family_history_with_overweight_yes  \\\n",
       "0                                  0                                   1   \n",
       "1                                  0                                   1   \n",
       "2                                  0                                   1   \n",
       "\n",
       "   FAVC_no  FAVC_yes  ...  FAF_1  FAF_2  FAF_3  TUE_0  TUE_1  TUE_2  \\\n",
       "0        1         0  ...      0      0      0      0      1      0   \n",
       "1        1         0  ...      0      0      1      1      0      0   \n",
       "2        1         0  ...      0      1      0      0      1      0   \n",
       "\n",
       "   CALC_Always  CALC_Frequently  CALC_Sometimes  CALC_no  \n",
       "0            0                0               0        1  \n",
       "1            0                0               1        0  \n",
       "2            0                1               0        0  \n",
       "\n",
       "[3 rows x 44 columns]"
      ]
     },
     "execution_count": 95,
     "metadata": {},
     "output_type": "execute_result"
    }
   ],
   "source": [
    "df_res = df.copy(deep=True)\n",
    "df_res = pd.get_dummies(df, columns=['Gender','family_history_with_overweight','FAVC','SMOKE',\n",
    "                                     'SCC','MTRANS','FCVC','NCP','CAEC','CH2O','FAF','TUE','CALC'])\n",
    "df_res.head(3)"
   ]
  },
  {
   "cell_type": "code",
   "execution_count": 96,
   "id": "a2b99f9b",
   "metadata": {},
   "outputs": [],
   "source": [
    "df_res.drop(columns=['Weight'],inplace=True)"
   ]
  },
  {
   "cell_type": "code",
   "execution_count": 97,
   "id": "59476a4c",
   "metadata": {},
   "outputs": [],
   "source": [
    "from sklearn.model_selection import train_test_split\n",
    "X = df_res.drop(columns=[\"NObeyesdad\"])\n",
    "y = df_res['NObeyesdad'] \n",
    "X_train, X_test, y_train, y_test = train_test_split(X, y, test_size=0.3, random_state=42)"
   ]
  },
  {
   "cell_type": "code",
   "execution_count": 98,
   "id": "b82cc105",
   "metadata": {},
   "outputs": [],
   "source": [
    "from sklearn.preprocessing import MinMaxScaler\n",
    "norm = MinMaxScaler()\n",
    "X_train_norm = norm.fit_transform(X_train)\n",
    "X_test_norm = norm.transform(X_test)"
   ]
  },
  {
   "cell_type": "code",
   "execution_count": 99,
   "id": "f5264486",
   "metadata": {},
   "outputs": [
    {
     "name": "stdout",
     "output_type": "stream",
     "text": [
      "The DummyClassifier score is: 0.1608832807570978\n"
     ]
    }
   ],
   "source": [
    "# Before we try real models, we will try a dummyClassifier. we will try to get high score than the dummyModel.\n",
    "from sklearn.dummy import DummyClassifier\n",
    "dummy_clf = DummyClassifier(strategy=\"most_frequent\", random_state=0)\n",
    "dummy_clf.fit(X_train_norm, y_train)\n",
    "dummy_clf.predict(X_train_norm)\n",
    "print(\"The DummyClassifier score is:\" ,dummy_clf.score(X_test_norm, y_test))"
   ]
  },
  {
   "cell_type": "code",
   "execution_count": 100,
   "id": "e6b87a82",
   "metadata": {},
   "outputs": [],
   "source": [
    "from sklearn.metrics import classification_report\n",
    "from sklearn import metrics"
   ]
  },
  {
   "cell_type": "code",
   "execution_count": 102,
   "id": "127781e9",
   "metadata": {},
   "outputs": [
    {
     "name": "stdout",
     "output_type": "stream",
     "text": [
      "precision_score: 0.717\n",
      "Accuracy: 0.711\n",
      "Classification Report: \n",
      "                      precision    recall  f1-score   support\n",
      "\n",
      "Insufficient_Weight       0.72      0.88      0.80        86\n",
      "      Normal_Weight       0.78      0.33      0.47        93\n",
      "     Obesity_Type_I       0.65      0.76      0.70       102\n",
      "    Obesity_Type_II       0.64      0.90      0.75        88\n",
      "   Obesity_Type_III       0.84      0.99      0.91        98\n",
      " Overweight_Level_I       0.71      0.53      0.61        88\n",
      "Overweight_Level_II       0.66      0.54      0.60        79\n",
      "\n",
      "           accuracy                           0.71       634\n",
      "          macro avg       0.72      0.71      0.69       634\n",
      "       weighted avg       0.72      0.71      0.69       634\n",
      "\n"
     ]
    }
   ],
   "source": [
    "#KNN\n",
    "from sklearn.neighbors import KNeighborsClassifier\n",
    "KNN = KNeighborsClassifier().fit(X_train_norm, y_train)\n",
    "y_pred = KNN.predict(X_test_norm)\n",
    "norm_preci = round(metrics.precision_score(y_test, y_pred, average=\"weighted\"),3)            \n",
    "norm_accuracy = round(metrics.accuracy_score(y_test, y_pred),3)\n",
    "print(\"precision_score:\", norm_preci)\n",
    "print(\"Accuracy:\", norm_accuracy)\n",
    "print(\"Classification Report: \\n\", metrics.classification_report(y_test, y_pred))"
   ]
  },
  {
   "cell_type": "code",
   "execution_count": 103,
   "id": "1cf40777",
   "metadata": {},
   "outputs": [
    {
     "name": "stdout",
     "output_type": "stream",
     "text": [
      "Accuracy: 0.8091482649842271\n",
      "Classification Report: \n",
      "                      precision    recall  f1-score   support\n",
      "\n",
      "Insufficient_Weight       0.79      0.88      0.84        86\n",
      "      Normal_Weight       0.63      0.61      0.62        93\n",
      "     Obesity_Type_I       0.81      0.81      0.81       102\n",
      "    Obesity_Type_II       0.84      0.94      0.89        88\n",
      "   Obesity_Type_III       0.97      0.99      0.98        98\n",
      " Overweight_Level_I       0.78      0.72      0.75        88\n",
      "Overweight_Level_II       0.82      0.68      0.74        79\n",
      "\n",
      "           accuracy                           0.81       634\n",
      "          macro avg       0.81      0.81      0.80       634\n",
      "       weighted avg       0.81      0.81      0.81       634\n",
      "\n"
     ]
    }
   ],
   "source": [
    "from xgboost import XGBClassifier\n",
    "\n",
    "XGB = XGBClassifier(objective=\"multi:softmax\",num_class= 7, random_state=42)\n",
    "XGB.fit(X_train_norm, y_train, eval_metric='auc')\n",
    "y_pred_XGB = XGB.predict(X_test_norm)\n",
    "\n",
    "accuracy = metrics.accuracy_score(y_test, y_pred_XGB)\n",
    "print(\"Accuracy:\", accuracy)\n",
    "print(\"Classification Report: \\n\", metrics.classification_report(y_test, y_pred_XGB))"
   ]
  },
  {
   "cell_type": "code",
   "execution_count": 104,
   "id": "87d2c564",
   "metadata": {},
   "outputs": [
    {
     "data": {
      "text/plain": [
       "VotingClassifier(estimators=[('lr', LogisticRegression()),\n",
       "                             ('knn', KNeighborsClassifier()),\n",
       "                             ('dt', DecisionTreeClassifier())])"
      ]
     },
     "execution_count": 104,
     "metadata": {},
     "output_type": "execute_result"
    }
   ],
   "source": [
    "from sklearn.ensemble import VotingClassifier\n",
    "from sklearn.linear_model import LogisticRegression\n",
    "from sklearn.neighbors import KNeighborsClassifier\n",
    "from sklearn.tree import DecisionTreeClassifier \n",
    "\n",
    "DTC = DecisionTreeClassifier()\n",
    "KNN = KNeighborsClassifier()\n",
    "log_clf = LogisticRegression()\n",
    "\n",
    "voting_clf = VotingClassifier(\n",
    " estimators=[('lr', log_clf),('knn',KNN),('dt', DTC)],\n",
    " voting='hard')\n",
    "\n",
    "voting_clf.fit(X_train, y_train)\n"
   ]
  },
  {
   "cell_type": "code",
   "execution_count": 105,
   "id": "26c488b9",
   "metadata": {},
   "outputs": [
    {
     "name": "stdout",
     "output_type": "stream",
     "text": [
      "LogisticRegression 0.5851735015772871\n",
      "KNeighborsClassifier 0.7113564668769716\n",
      "DecisionTreeClassifier 0.7145110410094637\n",
      "VotingClassifier 0.7192429022082019\n"
     ]
    }
   ],
   "source": [
    "from sklearn.metrics import accuracy_score\n",
    "for clf in (log_clf,  KNN,DTC, voting_clf):\n",
    "    clf.fit(X_train_norm, y_train)\n",
    "    y_pred = clf.predict(X_test_norm)\n",
    "    print(clf.__class__.__name__, accuracy_score(y_test, y_pred))\n"
   ]
  },
  {
   "cell_type": "code",
   "execution_count": 107,
   "id": "c6061f7b",
   "metadata": {},
   "outputs": [
    {
     "name": "stdout",
     "output_type": "stream",
     "text": [
      "Accuracy: 0.7570977917981072\n",
      "Classification Report: \n",
      "                      precision    recall  f1-score   support\n",
      "\n",
      "Insufficient_Weight       0.79      0.83      0.81        86\n",
      "      Normal_Weight       0.59      0.59      0.59        93\n",
      "     Obesity_Type_I       0.70      0.75      0.73       102\n",
      "    Obesity_Type_II       0.84      0.92      0.88        88\n",
      "   Obesity_Type_III       0.94      0.99      0.97        98\n",
      " Overweight_Level_I       0.68      0.60      0.64        88\n",
      "Overweight_Level_II       0.73      0.58      0.65        79\n",
      "\n",
      "           accuracy                           0.76       634\n",
      "          macro avg       0.75      0.75      0.75       634\n",
      "       weighted avg       0.75      0.76      0.75       634\n",
      "\n"
     ]
    }
   ],
   "source": [
    "from sklearn.ensemble import GradientBoostingClassifier\n",
    "\n",
    "GBC = GradientBoostingClassifier().fit(X_train_norm, y_train)\n",
    "y_pred = GBC.predict(X_test_norm)\n",
    "\n",
    "accuracy = metrics.accuracy_score(y_test, y_pred)\n",
    "print(\"Accuracy:\", accuracy)\n",
    "print(\"Classification Report: \\n\", metrics.classification_report(y_test, y_pred)) "
   ]
  },
  {
   "cell_type": "code",
   "execution_count": null,
   "id": "e137351e",
   "metadata": {},
   "outputs": [],
   "source": []
  },
  {
   "cell_type": "code",
   "execution_count": 108,
   "id": "f9fc6171",
   "metadata": {},
   "outputs": [],
   "source": [
    "#Searching for better performance out of the models with RandomizedSearch\n",
    "from sklearn.model_selection import RandomizedSearchCV"
   ]
  },
  {
   "cell_type": "code",
   "execution_count": 115,
   "id": "7b69a423",
   "metadata": {
    "scrolled": true
   },
   "outputs": [
    {
     "name": "stdout",
     "output_type": "stream",
     "text": [
      "Fitting 5 folds for each of 50 candidates, totalling 250 fits\n",
      "Accuracy Score =  0.8138801261829653\n",
      "{'subsample': 1, 'n_estimators': 150, 'min_child_weight': 1, 'max_depth': 20, 'learning_rate': 0.3, 'colsample_bytree': 0.7}\n"
     ]
    }
   ],
   "source": [
    "#XGBClassifier\n",
    "\n",
    "parameters = {\n",
    "        'learning_rate': [ 0.1,0.3,0.03],\n",
    "        'max_depth': [6,10,15,20],\n",
    "        'min_child_weight': [1, 2],\n",
    "        'subsample': [0.5,0.6,1],\n",
    "        'colsample_bytree': [0.3,0.5, 0.7],\n",
    "        'n_estimators' : [100,150,170,200]\n",
    "         }\n",
    "\n",
    "random_XGB = RandomizedSearchCV(XGBClassifier(eval_metric='acu'),parameters, n_jobs=-1, \n",
    "                          random_state=42, n_iter = 50, verbose = True)\n",
    "random_XGB.fit(X_train_norm,y_train, eval_metric='auc')\n",
    "y_pred_XGB_random = random_XGB.predict(X_test_norm)\n",
    "print (\"Accuracy Score = \",metrics.accuracy_score(y_test,y_pred_XGB_random))\n",
    "print (random_XGB.best_params_)"
   ]
  },
  {
   "cell_type": "code",
   "execution_count": 113,
   "id": "a1a59bc8",
   "metadata": {},
   "outputs": [],
   "source": []
  },
  {
   "cell_type": "code",
   "execution_count": null,
   "id": "6f4d8dae",
   "metadata": {},
   "outputs": [],
   "source": []
  },
  {
   "cell_type": "code",
   "execution_count": null,
   "id": "731596ab",
   "metadata": {},
   "outputs": [],
   "source": []
  }
 ],
 "metadata": {
  "kernelspec": {
   "display_name": "Python 3 (ipykernel)",
   "language": "python",
   "name": "python3"
  },
  "language_info": {
   "codemirror_mode": {
    "name": "ipython",
    "version": 3
   },
   "file_extension": ".py",
   "mimetype": "text/x-python",
   "name": "python",
   "nbconvert_exporter": "python",
   "pygments_lexer": "ipython3",
   "version": "3.8.8"
  }
 },
 "nbformat": 4,
 "nbformat_minor": 5
}
