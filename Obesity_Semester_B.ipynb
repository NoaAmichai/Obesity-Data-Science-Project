{
 "cells": [
  {
   "cell_type": "markdown",
   "id": "c009fccd",
   "metadata": {},
   "source": [
    "### Obesity - Classification (Semester B)\n"
   ]
  },
  {
   "cell_type": "code",
   "execution_count": 38,
   "id": "63d63508",
   "metadata": {},
   "outputs": [],
   "source": [
    "import pandas as pd\n",
    "import numpy as np\n",
    "%matplotlib inline\n",
    "import matplotlib.pyplot as plt\n",
    "plt.style.use(\"seaborn\")\n",
    "import seaborn as sns\n",
    "#from bokeh.plotting import figure, output_file, show\n",
    "#from bokeh.palettes import magma\n",
    "import matplotlib.cm as cm \n",
    "#import plotly.express as px\n",
    "import warnings\n",
    "warnings.filterwarnings('ignore')\n",
    "from sklearn.metrics import classification_report\n",
    "from sklearn import metrics\n",
    "from sklearn.metrics import accuracy_score, precision_score, recall_score\n",
    "from sklearn.model_selection import cross_val_score\n",
    "from sklearn.model_selection import KFold\n",
    "from sklearn.dummy import DummyClassifier\n",
    "import lightgbm as lgb\n",
    "from sklearn.neighbors import KNeighborsClassifier \n",
    "from sklearn.ensemble import VotingClassifier\n",
    "from sklearn.linear_model import LogisticRegression\n",
    "from sklearn.tree import DecisionTreeClassifier\n",
    "from sklearn.ensemble import RandomForestClassifier\n",
    "from xgboost import XGBClassifier\n",
    "from sklearn.model_selection import RandomizedSearchCV\n",
    "from sklearn.metrics import confusion_matrix\n",
    "\n",
    "\n",
    "\n",
    "np.set_printoptions(precision=5)"
   ]
  },
  {
   "cell_type": "code",
   "execution_count": 4,
   "id": "9834f89d",
   "metadata": {},
   "outputs": [
    {
     "data": {
      "text/html": [
       "<div>\n",
       "<style scoped>\n",
       "    .dataframe tbody tr th:only-of-type {\n",
       "        vertical-align: middle;\n",
       "    }\n",
       "\n",
       "    .dataframe tbody tr th {\n",
       "        vertical-align: top;\n",
       "    }\n",
       "\n",
       "    .dataframe thead th {\n",
       "        text-align: right;\n",
       "    }\n",
       "</style>\n",
       "<table border=\"1\" class=\"dataframe\">\n",
       "  <thead>\n",
       "    <tr style=\"text-align: right;\">\n",
       "      <th></th>\n",
       "      <th>Gender</th>\n",
       "      <th>Age</th>\n",
       "      <th>Height</th>\n",
       "      <th>Weight</th>\n",
       "      <th>family_history_with_overweight</th>\n",
       "      <th>FAVC</th>\n",
       "      <th>FCVC</th>\n",
       "      <th>NCP</th>\n",
       "      <th>CAEC</th>\n",
       "      <th>SMOKE</th>\n",
       "      <th>CH2O</th>\n",
       "      <th>SCC</th>\n",
       "      <th>FAF</th>\n",
       "      <th>TUE</th>\n",
       "      <th>CALC</th>\n",
       "      <th>MTRANS</th>\n",
       "      <th>NObeyesdad</th>\n",
       "    </tr>\n",
       "  </thead>\n",
       "  <tbody>\n",
       "    <tr>\n",
       "      <th>0</th>\n",
       "      <td>Female</td>\n",
       "      <td>21.0</td>\n",
       "      <td>1.62</td>\n",
       "      <td>64.0</td>\n",
       "      <td>yes</td>\n",
       "      <td>no</td>\n",
       "      <td>2.0</td>\n",
       "      <td>3.0</td>\n",
       "      <td>Sometimes</td>\n",
       "      <td>no</td>\n",
       "      <td>2.0</td>\n",
       "      <td>no</td>\n",
       "      <td>0.0</td>\n",
       "      <td>1.0</td>\n",
       "      <td>no</td>\n",
       "      <td>Public_Transportation</td>\n",
       "      <td>Normal_Weight</td>\n",
       "    </tr>\n",
       "    <tr>\n",
       "      <th>1</th>\n",
       "      <td>Female</td>\n",
       "      <td>21.0</td>\n",
       "      <td>1.52</td>\n",
       "      <td>56.0</td>\n",
       "      <td>yes</td>\n",
       "      <td>no</td>\n",
       "      <td>3.0</td>\n",
       "      <td>3.0</td>\n",
       "      <td>Sometimes</td>\n",
       "      <td>yes</td>\n",
       "      <td>3.0</td>\n",
       "      <td>yes</td>\n",
       "      <td>3.0</td>\n",
       "      <td>0.0</td>\n",
       "      <td>Sometimes</td>\n",
       "      <td>Public_Transportation</td>\n",
       "      <td>Normal_Weight</td>\n",
       "    </tr>\n",
       "    <tr>\n",
       "      <th>2</th>\n",
       "      <td>Male</td>\n",
       "      <td>23.0</td>\n",
       "      <td>1.80</td>\n",
       "      <td>77.0</td>\n",
       "      <td>yes</td>\n",
       "      <td>no</td>\n",
       "      <td>2.0</td>\n",
       "      <td>3.0</td>\n",
       "      <td>Sometimes</td>\n",
       "      <td>no</td>\n",
       "      <td>2.0</td>\n",
       "      <td>no</td>\n",
       "      <td>2.0</td>\n",
       "      <td>1.0</td>\n",
       "      <td>Frequently</td>\n",
       "      <td>Public_Transportation</td>\n",
       "      <td>Normal_Weight</td>\n",
       "    </tr>\n",
       "  </tbody>\n",
       "</table>\n",
       "</div>"
      ],
      "text/plain": [
       "   Gender   Age  Height  Weight family_history_with_overweight FAVC  FCVC  \\\n",
       "0  Female  21.0    1.62    64.0                            yes   no   2.0   \n",
       "1  Female  21.0    1.52    56.0                            yes   no   3.0   \n",
       "2    Male  23.0    1.80    77.0                            yes   no   2.0   \n",
       "\n",
       "   NCP       CAEC SMOKE  CH2O  SCC  FAF  TUE        CALC  \\\n",
       "0  3.0  Sometimes    no   2.0   no  0.0  1.0          no   \n",
       "1  3.0  Sometimes   yes   3.0  yes  3.0  0.0   Sometimes   \n",
       "2  3.0  Sometimes    no   2.0   no  2.0  1.0  Frequently   \n",
       "\n",
       "                  MTRANS     NObeyesdad  \n",
       "0  Public_Transportation  Normal_Weight  \n",
       "1  Public_Transportation  Normal_Weight  \n",
       "2  Public_Transportation  Normal_Weight  "
      ]
     },
     "execution_count": 4,
     "metadata": {},
     "output_type": "execute_result"
    }
   ],
   "source": [
    "df = pd.read_csv(\"ObesityDataSet_raw_and_data_sinthetic.csv\")\n",
    "df.head(3)"
   ]
  },
  {
   "cell_type": "markdown",
   "id": "490c0249",
   "metadata": {},
   "source": [
    "\n",
    "* Gender : Male or Female\n",
    "* Age : Age of the person\n",
    "* Height : Height in \"meter\"\n",
    "* Weight : Weight in \"kilogram\"\n",
    "* family_history_with_overweight : if parents/family with obesity\n",
    "* FAVC : Frequent consumption of high caloric food\n",
    "* FCVC : Frequency of consumption of vegetables\n",
    "* NCP : Number of main meals (per day)\n",
    "* CAEC : Consumption of food between meals\n",
    "* SMOKE : does the person smoke or not\n",
    "* CH2O : Consumption of water daily\n",
    "* SCC : Calories consumption monitoring\n",
    "* FAF : Physical activity frequency (per week)\n",
    "* TUE : Time using technology devices\n",
    "* CALC : Alcool consumption\n",
    "* MTRANS : what kind of transportation taken\n",
    "* NObeyesdad : level of obesity\n"
   ]
  },
  {
   "cell_type": "code",
   "execution_count": 5,
   "id": "86a2615c",
   "metadata": {},
   "outputs": [
    {
     "name": "stdout",
     "output_type": "stream",
     "text": [
      "<class 'pandas.core.frame.DataFrame'>\n",
      "RangeIndex: 2111 entries, 0 to 2110\n",
      "Data columns (total 17 columns):\n",
      " #   Column                          Non-Null Count  Dtype  \n",
      "---  ------                          --------------  -----  \n",
      " 0   Gender                          2111 non-null   object \n",
      " 1   Age                             2111 non-null   float64\n",
      " 2   Height                          2111 non-null   float64\n",
      " 3   Weight                          2111 non-null   float64\n",
      " 4   family_history_with_overweight  2111 non-null   object \n",
      " 5   FAVC                            2111 non-null   object \n",
      " 6   FCVC                            2111 non-null   float64\n",
      " 7   NCP                             2111 non-null   float64\n",
      " 8   CAEC                            2111 non-null   object \n",
      " 9   SMOKE                           2111 non-null   object \n",
      " 10  CH2O                            2111 non-null   float64\n",
      " 11  SCC                             2111 non-null   object \n",
      " 12  FAF                             2111 non-null   float64\n",
      " 13  TUE                             2111 non-null   float64\n",
      " 14  CALC                            2111 non-null   object \n",
      " 15  MTRANS                          2111 non-null   object \n",
      " 16  NObeyesdad                      2111 non-null   object \n",
      "dtypes: float64(8), object(9)\n",
      "memory usage: 280.5+ KB\n"
     ]
    }
   ],
   "source": [
    "df.info()"
   ]
  },
  {
   "cell_type": "code",
   "execution_count": 6,
   "id": "626f9c27",
   "metadata": {},
   "outputs": [],
   "source": [
    "#Other than 'Age', 'Weight' and 'Height' there is no reason for the other numeric columns to be 'float'. We'll change it.\n",
    "columns = [\"NCP\", \"CH2O\", \"TUE\", \"FAF\",\"FCVC\"]\n",
    "for col in columns:\n",
    "    df[col] = df[col].astype('int64')"
   ]
  },
  {
   "cell_type": "markdown",
   "id": "0aaaecd5",
   "metadata": {},
   "source": [
    "Last semester, our best model received an accuracy of 82%. When we presented the confusion matrix of this model,<br> we saw that sometimes the model predicts illogical things.<br>\n",
    "For example, the model consistently predicted person with normal weight as obese type II or type III.\n",
    "\n",
    "We will check if there is a direct connection between people who are defined as normal weight and people who are defined as obese type II or type III.<br> \n",
    "Accordingly, we will remove columns that may have confused our models in the previous semester.<br>\n",
    "\n",
    "We will try to achieve better accuracy in our models, also by using other models and other techniques. "
   ]
  },
  {
   "cell_type": "code",
   "execution_count": 7,
   "id": "f8fad169",
   "metadata": {},
   "outputs": [],
   "source": [
    "Normal_Weight = df.loc[df.NObeyesdad == \"Normal_Weight\"]\n",
    "Obesity_Type_II = df.loc[df.NObeyesdad == \"Obesity_Type_II\"]\n",
    "Obesity_Type_III = df.loc[df.NObeyesdad == \"Obesity_Type_III\"]\n",
    "\n",
    "frames = [Normal_Weight,Obesity_Type_II,Obesity_Type_III]\n",
    "result = pd.concat(frames)"
   ]
  },
  {
   "cell_type": "code",
   "execution_count": 8,
   "id": "73782402",
   "metadata": {},
   "outputs": [
    {
     "data": {
      "text/plain": [
       "<AxesSubplot:xlabel='MTRANS', ylabel='Count'>"
      ]
     },
     "execution_count": 8,
     "metadata": {},
     "output_type": "execute_result"
    },
    {
     "data": {
      "image/png": "[encoded data removed]",
      "text/plain": [
       "<Figure size 1440x1008 with 6 Axes>"
      ]
     },
     "metadata": {},
     "output_type": "display_data"
    }
   ],
   "source": [
    "fig, axs = plt.subplots(ncols=3, nrows = 2,figsize = (20,14))\n",
    "\n",
    "sns.histplot(data=result, x=\"CALC\", hue=\"NObeyesdad\", multiple=\"dodge\", shrink=.8,palette=\"Purples\",ax=axs[0][0])\n",
    "sns.histplot(data=result, x=\"SMOKE\", hue=\"NObeyesdad\", multiple=\"dodge\", shrink=.8,palette=\"Reds\",ax=axs[0][1])\n",
    "sns.histplot(data=result, x=\"family_history_with_overweight\", hue=\"NObeyesdad\", multiple=\"dodge\", shrink=.8,palette=\"RdPu\",ax=axs[0][2])\n",
    "sns.histplot(data=result, x=\"CAEC\", hue=\"NObeyesdad\", multiple=\"dodge\", shrink=.8,palette=\"Greens\",ax=axs[1][0])\n",
    "sns.histplot(data=result, x=\"NCP\", hue=\"NObeyesdad\", multiple=\"dodge\", shrink=.8,palette=\"Blues\",ax=axs[1][1])\n",
    "sns.histplot(data=result, x=\"MTRANS\", hue=\"NObeyesdad\", multiple=\"dodge\", shrink=.8,palette=\"Oranges\",ax=axs[1][2])\n"
   ]
  },
  {
   "cell_type": "code",
   "execution_count": 18,
   "id": "442b7a3c",
   "metadata": {},
   "outputs": [
    {
     "data": {
      "text/html": [
       "<div>\n",
       "<style scoped>\n",
       "    .dataframe tbody tr th:only-of-type {\n",
       "        vertical-align: middle;\n",
       "    }\n",
       "\n",
       "    .dataframe tbody tr th {\n",
       "        vertical-align: top;\n",
       "    }\n",
       "\n",
       "    .dataframe thead th {\n",
       "        text-align: right;\n",
       "    }\n",
       "</style>\n",
       "<table border=\"1\" class=\"dataframe\">\n",
       "  <thead>\n",
       "    <tr style=\"text-align: right;\">\n",
       "      <th></th>\n",
       "      <th></th>\n",
       "      <th>NObeyesdad</th>\n",
       "    </tr>\n",
       "    <tr>\n",
       "      <th>MTRANS</th>\n",
       "      <th>NObeyesdad</th>\n",
       "      <th></th>\n",
       "    </tr>\n",
       "  </thead>\n",
       "  <tbody>\n",
       "    <tr>\n",
       "      <th rowspan=\"3\" valign=\"top\">Automobile</th>\n",
       "      <th>Obesity_Type_II</th>\n",
       "      <td>95</td>\n",
       "    </tr>\n",
       "    <tr>\n",
       "      <th>Normal_Weight</th>\n",
       "      <td>45</td>\n",
       "    </tr>\n",
       "    <tr>\n",
       "      <th>Obesity_Type_III</th>\n",
       "      <td>1</td>\n",
       "    </tr>\n",
       "    <tr>\n",
       "      <th rowspan=\"2\" valign=\"top\">Bike</th>\n",
       "      <th>Normal_Weight</th>\n",
       "      <td>4</td>\n",
       "    </tr>\n",
       "    <tr>\n",
       "      <th>Obesity_Type_II</th>\n",
       "      <td>1</td>\n",
       "    </tr>\n",
       "    <tr>\n",
       "      <th>Motorbike</th>\n",
       "      <th>Normal_Weight</th>\n",
       "      <td>6</td>\n",
       "    </tr>\n",
       "    <tr>\n",
       "      <th rowspan=\"3\" valign=\"top\">Public_Transportation</th>\n",
       "      <th>Obesity_Type_III</th>\n",
       "      <td>323</td>\n",
       "    </tr>\n",
       "    <tr>\n",
       "      <th>Normal_Weight</th>\n",
       "      <td>200</td>\n",
       "    </tr>\n",
       "    <tr>\n",
       "      <th>Obesity_Type_II</th>\n",
       "      <td>200</td>\n",
       "    </tr>\n",
       "    <tr>\n",
       "      <th rowspan=\"2\" valign=\"top\">Walking</th>\n",
       "      <th>Normal_Weight</th>\n",
       "      <td>32</td>\n",
       "    </tr>\n",
       "    <tr>\n",
       "      <th>Obesity_Type_II</th>\n",
       "      <td>1</td>\n",
       "    </tr>\n",
       "  </tbody>\n",
       "</table>\n",
       "</div>"
      ],
      "text/plain": [
       "                                        NObeyesdad\n",
       "MTRANS                NObeyesdad                  \n",
       "Automobile            Obesity_Type_II           95\n",
       "                      Normal_Weight             45\n",
       "                      Obesity_Type_III           1\n",
       "Bike                  Normal_Weight              4\n",
       "                      Obesity_Type_II            1\n",
       "Motorbike             Normal_Weight              6\n",
       "Public_Transportation Obesity_Type_III         323\n",
       "                      Normal_Weight            200\n",
       "                      Obesity_Type_II          200\n",
       "Walking               Normal_Weight             32\n",
       "                      Obesity_Type_II            1"
      ]
     },
     "execution_count": 18,
     "metadata": {},
     "output_type": "execute_result"
    }
   ],
   "source": [
    "pd.DataFrame(result.NObeyesdad.groupby(result.MTRANS).value_counts())"
   ]
  },
  {
   "cell_type": "code",
   "execution_count": 19,
   "id": "5e136504",
   "metadata": {},
   "outputs": [],
   "source": [
    "Normal = Normal_Weight.describe(include='O').iloc[2:4]\n",
    "Type_II =Obesity_Type_II.describe(include='O').iloc[2:4]\n",
    "Type_III =Obesity_Type_III.describe(include='O').iloc[2:4]"
   ]
  },
  {
   "cell_type": "code",
   "execution_count": 20,
   "id": "bbdd66b7",
   "metadata": {},
   "outputs": [
    {
     "data": {
      "text/html": [
       "<div>\n",
       "<style scoped>\n",
       "    .dataframe tbody tr th:only-of-type {\n",
       "        vertical-align: middle;\n",
       "    }\n",
       "\n",
       "    .dataframe tbody tr th {\n",
       "        vertical-align: top;\n",
       "    }\n",
       "\n",
       "    .dataframe thead th {\n",
       "        text-align: right;\n",
       "    }\n",
       "</style>\n",
       "<table border=\"1\" class=\"dataframe\">\n",
       "  <thead>\n",
       "    <tr style=\"text-align: right;\">\n",
       "      <th></th>\n",
       "      <th>Gender</th>\n",
       "      <th>family_history_with_overweight</th>\n",
       "      <th>FAVC</th>\n",
       "      <th>CAEC</th>\n",
       "      <th>SMOKE</th>\n",
       "      <th>SCC</th>\n",
       "      <th>CALC</th>\n",
       "      <th>MTRANS</th>\n",
       "      <th>NObeyesdad</th>\n",
       "    </tr>\n",
       "  </thead>\n",
       "  <tbody>\n",
       "    <tr>\n",
       "      <th>top</th>\n",
       "      <td>Male</td>\n",
       "      <td>yes</td>\n",
       "      <td>yes</td>\n",
       "      <td>Sometimes</td>\n",
       "      <td>no</td>\n",
       "      <td>no</td>\n",
       "      <td>Sometimes</td>\n",
       "      <td>Public_Transportation</td>\n",
       "      <td>Normal_Weight</td>\n",
       "    </tr>\n",
       "    <tr>\n",
       "      <th>freq</th>\n",
       "      <td>146</td>\n",
       "      <td>155</td>\n",
       "      <td>208</td>\n",
       "      <td>159</td>\n",
       "      <td>274</td>\n",
       "      <td>257</td>\n",
       "      <td>161</td>\n",
       "      <td>200</td>\n",
       "      <td>287</td>\n",
       "    </tr>\n",
       "  </tbody>\n",
       "</table>\n",
       "</div>"
      ],
      "text/plain": [
       "     Gender family_history_with_overweight FAVC       CAEC SMOKE  SCC  \\\n",
       "top    Male                            yes  yes  Sometimes    no   no   \n",
       "freq    146                            155  208        159   274  257   \n",
       "\n",
       "           CALC                 MTRANS     NObeyesdad  \n",
       "top   Sometimes  Public_Transportation  Normal_Weight  \n",
       "freq        161                    200            287  "
      ]
     },
     "execution_count": 20,
     "metadata": {},
     "output_type": "execute_result"
    }
   ],
   "source": [
    "Normal"
   ]
  },
  {
   "cell_type": "code",
   "execution_count": 21,
   "id": "ec8588a0",
   "metadata": {
    "scrolled": true
   },
   "outputs": [
    {
     "data": {
      "text/html": [
       "<div>\n",
       "<style scoped>\n",
       "    .dataframe tbody tr th:only-of-type {\n",
       "        vertical-align: middle;\n",
       "    }\n",
       "\n",
       "    .dataframe tbody tr th {\n",
       "        vertical-align: top;\n",
       "    }\n",
       "\n",
       "    .dataframe thead th {\n",
       "        text-align: right;\n",
       "    }\n",
       "</style>\n",
       "<table border=\"1\" class=\"dataframe\">\n",
       "  <thead>\n",
       "    <tr style=\"text-align: right;\">\n",
       "      <th></th>\n",
       "      <th>Gender</th>\n",
       "      <th>family_history_with_overweight</th>\n",
       "      <th>FAVC</th>\n",
       "      <th>CAEC</th>\n",
       "      <th>SMOKE</th>\n",
       "      <th>SCC</th>\n",
       "      <th>CALC</th>\n",
       "      <th>MTRANS</th>\n",
       "      <th>NObeyesdad</th>\n",
       "    </tr>\n",
       "  </thead>\n",
       "  <tbody>\n",
       "    <tr>\n",
       "      <th>top</th>\n",
       "      <td>Male</td>\n",
       "      <td>yes</td>\n",
       "      <td>yes</td>\n",
       "      <td>Sometimes</td>\n",
       "      <td>no</td>\n",
       "      <td>no</td>\n",
       "      <td>Sometimes</td>\n",
       "      <td>Public_Transportation</td>\n",
       "      <td>Obesity_Type_II</td>\n",
       "    </tr>\n",
       "    <tr>\n",
       "      <th>freq</th>\n",
       "      <td>295</td>\n",
       "      <td>296</td>\n",
       "      <td>290</td>\n",
       "      <td>293</td>\n",
       "      <td>282</td>\n",
       "      <td>296</td>\n",
       "      <td>224</td>\n",
       "      <td>200</td>\n",
       "      <td>297</td>\n",
       "    </tr>\n",
       "  </tbody>\n",
       "</table>\n",
       "</div>"
      ],
      "text/plain": [
       "     Gender family_history_with_overweight FAVC       CAEC SMOKE  SCC  \\\n",
       "top    Male                            yes  yes  Sometimes    no   no   \n",
       "freq    295                            296  290        293   282  296   \n",
       "\n",
       "           CALC                 MTRANS       NObeyesdad  \n",
       "top   Sometimes  Public_Transportation  Obesity_Type_II  \n",
       "freq        224                    200              297  "
      ]
     },
     "execution_count": 21,
     "metadata": {},
     "output_type": "execute_result"
    }
   ],
   "source": [
    "Type_II"
   ]
  },
  {
   "cell_type": "code",
   "execution_count": 22,
   "id": "fcff441b",
   "metadata": {
    "scrolled": false
   },
   "outputs": [
    {
     "data": {
      "text/html": [
       "<div>\n",
       "<style scoped>\n",
       "    .dataframe tbody tr th:only-of-type {\n",
       "        vertical-align: middle;\n",
       "    }\n",
       "\n",
       "    .dataframe tbody tr th {\n",
       "        vertical-align: top;\n",
       "    }\n",
       "\n",
       "    .dataframe thead th {\n",
       "        text-align: right;\n",
       "    }\n",
       "</style>\n",
       "<table border=\"1\" class=\"dataframe\">\n",
       "  <thead>\n",
       "    <tr style=\"text-align: right;\">\n",
       "      <th></th>\n",
       "      <th>Gender</th>\n",
       "      <th>family_history_with_overweight</th>\n",
       "      <th>FAVC</th>\n",
       "      <th>CAEC</th>\n",
       "      <th>SMOKE</th>\n",
       "      <th>SCC</th>\n",
       "      <th>CALC</th>\n",
       "      <th>MTRANS</th>\n",
       "      <th>NObeyesdad</th>\n",
       "    </tr>\n",
       "  </thead>\n",
       "  <tbody>\n",
       "    <tr>\n",
       "      <th>top</th>\n",
       "      <td>Female</td>\n",
       "      <td>yes</td>\n",
       "      <td>yes</td>\n",
       "      <td>Sometimes</td>\n",
       "      <td>no</td>\n",
       "      <td>no</td>\n",
       "      <td>Sometimes</td>\n",
       "      <td>Public_Transportation</td>\n",
       "      <td>Obesity_Type_III</td>\n",
       "    </tr>\n",
       "    <tr>\n",
       "      <th>freq</th>\n",
       "      <td>323</td>\n",
       "      <td>324</td>\n",
       "      <td>323</td>\n",
       "      <td>323</td>\n",
       "      <td>323</td>\n",
       "      <td>324</td>\n",
       "      <td>323</td>\n",
       "      <td>323</td>\n",
       "      <td>324</td>\n",
       "    </tr>\n",
       "  </tbody>\n",
       "</table>\n",
       "</div>"
      ],
      "text/plain": [
       "      Gender family_history_with_overweight FAVC       CAEC SMOKE  SCC  \\\n",
       "top   Female                            yes  yes  Sometimes    no   no   \n",
       "freq     323                            324  323        323   323  324   \n",
       "\n",
       "           CALC                 MTRANS        NObeyesdad  \n",
       "top   Sometimes  Public_Transportation  Obesity_Type_III  \n",
       "freq        323                    323               324  "
      ]
     },
     "execution_count": 22,
     "metadata": {},
     "output_type": "execute_result"
    }
   ],
   "source": [
    "Type_III"
   ]
  },
  {
   "cell_type": "code",
   "execution_count": null,
   "id": "abafa0ac",
   "metadata": {},
   "outputs": [],
   "source": []
  },
  {
   "cell_type": "code",
   "execution_count": 23,
   "id": "72fb899e",
   "metadata": {
    "scrolled": false
   },
   "outputs": [],
   "source": [
    "df_res = df.copy(deep=True)\n",
    "df_res = pd.get_dummies(df, columns=['Gender','FAVC','family_history_with_overweight','CAEC',\n",
    "                                     'SCC','FCVC','CH2O','FAF','SMOKE','TUE','CALC'])"
   ]
  },
  {
   "cell_type": "code",
   "execution_count": 24,
   "id": "a2b99f9b",
   "metadata": {},
   "outputs": [],
   "source": [
    "#dropping 'Weight' colmn\n",
    "df_res.drop(columns=['Weight','MTRANS'],inplace=True)"
   ]
  },
  {
   "cell_type": "code",
   "execution_count": 25,
   "id": "59476a4c",
   "metadata": {},
   "outputs": [],
   "source": [
    "from sklearn.model_selection import train_test_split\n",
    "\n",
    "X = df_res.drop(columns=[\"NObeyesdad\"])\n",
    "y = df_res['NObeyesdad'] \n",
    "\n",
    "X_train, X_test, y_train, y_test = train_test_split(X, y, test_size=0.2, random_state=42)"
   ]
  },
  {
   "cell_type": "code",
   "execution_count": 26,
   "id": "b82cc105",
   "metadata": {},
   "outputs": [],
   "source": [
    "from sklearn.preprocessing import MinMaxScaler\n",
    "norm = MinMaxScaler()\n",
    "X_train = norm.fit_transform(X_train)\n",
    "X_test = norm.transform(X_test)"
   ]
  },
  {
   "cell_type": "code",
   "execution_count": 27,
   "id": "7e14e4cd",
   "metadata": {},
   "outputs": [],
   "source": [
    "#split the train\n",
    "X_train, X_val, y_train, y_val = train_test_split(X_train,y_train, test_size=0.2, random_state=42)"
   ]
  },
  {
   "cell_type": "markdown",
   "id": "2db8ebf3",
   "metadata": {},
   "source": [
    "##  Models:\n",
    "\n",
    "* LGBMClassifier\n",
    "* Random Forest\n",
    "* XGBClassifier\n",
    "* VotingClassifier"
   ]
  },
  {
   "cell_type": "code",
   "execution_count": 29,
   "id": "f5264486",
   "metadata": {
    "scrolled": true
   },
   "outputs": [
    {
     "name": "stdout",
     "output_type": "stream",
     "text": [
      "The DummyClassifier score is: 0.157\n"
     ]
    }
   ],
   "source": [
    "# Before we try real models, we will try a dummyClassifier. we will try to get high score than the dummyModel.\n",
    "\n",
    "dummy_clf = DummyClassifier(strategy=\"most_frequent\", random_state=42)\n",
    "dummy_clf.fit(X_train, y_train)\n",
    "y_predict = dummy_clf.predict(X_val)\n",
    "print(\"The DummyClassifier score is:\" ,round(dummy_clf.score(y_predict,y_val),3))"
   ]
  },
  {
   "cell_type": "markdown",
   "id": "b28008e5",
   "metadata": {},
   "source": [
    "### *LGBMClassifier:*"
   ]
  },
  {
   "cell_type": "code",
   "execution_count": 32,
   "id": "5259b2a6",
   "metadata": {},
   "outputs": [
    {
     "name": "stdout",
     "output_type": "stream",
     "text": [
      "Accuracy: 0.855\n"
     ]
    }
   ],
   "source": [
    "lgb = lgb.LGBMClassifier()\n",
    "lgb.fit(X_train, y_train)\n",
    "y_predict = lgb.predict(X_val)\n",
    "\n",
    "accuracy = metrics.accuracy_score(y_predict,y_val)\n",
    "print(\"Accuracy:\",round(accuracy,3))"
   ]
  },
  {
   "cell_type": "markdown",
   "id": "647f2d08",
   "metadata": {},
   "source": [
    "#### RandomForestClassifier"
   ]
  },
  {
   "cell_type": "code",
   "execution_count": 33,
   "id": "37cbfa25",
   "metadata": {},
   "outputs": [
    {
     "name": "stdout",
     "output_type": "stream",
     "text": [
      "Accuracy: 0.828\n"
     ]
    }
   ],
   "source": [
    "RF = RandomForestClassifier(random_state=42).fit(X_train, y_train)\n",
    "y_predict = RF.predict(X_val)\n",
    "accuracy = round(metrics.accuracy_score(y_predict,y_val),3)\n",
    "print(\"Accuracy:\",accuracy)"
   ]
  },
  {
   "cell_type": "markdown",
   "id": "4115ade4",
   "metadata": {},
   "source": [
    "##### XGBClassifier"
   ]
  },
  {
   "cell_type": "code",
   "execution_count": 34,
   "id": "5f18270f",
   "metadata": {
    "scrolled": true
   },
   "outputs": [
    {
     "data": {
      "text/plain": [
       "0.849"
      ]
     },
     "execution_count": 34,
     "metadata": {},
     "output_type": "execute_result"
    }
   ],
   "source": [
    "XGBClassifier = XGBClassifier(objective=\"binary:logistic\", random_state=42,num_class=7)\n",
    "XGBClassifier.fit(X_train,y_train,eval_metric='auc')\n",
    "y_predict = XGBClassifier.predict(X_val)\n",
    "accuracy = accuracy_score(y_predict,y_val)\n",
    "round(accuracy,3)"
   ]
  },
  {
   "cell_type": "markdown",
   "id": "58ab895f",
   "metadata": {},
   "source": [
    "#### VotingClassifier:"
   ]
  },
  {
   "cell_type": "code",
   "execution_count": 39,
   "id": "6f4d8dae",
   "metadata": {
    "scrolled": false
   },
   "outputs": [
    {
     "data": {
      "text/plain": [
       "VotingClassifier(estimators=[('LGB', LGBMClassifier()),\n",
       "                             ('XGB',\n",
       "                              XGBClassifier(base_score=None, booster=None,\n",
       "                                            colsample_bylevel=None,\n",
       "                                            colsample_bynode=None,\n",
       "                                            colsample_bytree=None,\n",
       "                                            enable_categorical=False,\n",
       "                                            eval_metric='auc', gamma=None,\n",
       "                                            gpu_id=None, importance_type=None,\n",
       "                                            interaction_constraints=None,\n",
       "                                            learning_rate=None,\n",
       "                                            max_delta_step=None, max_depth=None,\n",
       "                                            min_child...\n",
       "                                            predictor=None, random_state=None,\n",
       "                                            reg_alpha=None, reg_lambda=None,\n",
       "                                            scale_pos_weight=None,\n",
       "                                            subsample=None, tree_method=None,\n",
       "                                            validate_parameters=None,\n",
       "                                            verbosity=None)),\n",
       "                             ('RandomForest', RandomForestClassifier()),\n",
       "                             ('DecisionTree', DecisionTreeClassifier()),\n",
       "                             ('LogisticRegression', LogisticRegression()),\n",
       "                             ('KNN', KNeighborsClassifier())],\n",
       "                 voting='soft', weights=[4, 4, 1, 0, 0, 0])"
      ]
     },
     "execution_count": 39,
     "metadata": {},
     "output_type": "execute_result"
    }
   ],
   "source": [
    "LGB = lgb.LGBMClassifier()\n",
    "DecisionTree = DecisionTreeClassifier()\n",
    "LogisticRegression = LogisticRegression()\n",
    "KNN = KNeighborsClassifier()\n",
    "RandomForest = RandomForestClassifier()\n",
    "XGB = XGBClassifier(objective=\"binary:logistic\",num_class=7,eval_metric='auc')\n",
    "\n",
    "voting_clf = VotingClassifier(estimators=[('LGB', LGB),('XGB', XGB),('RandomForest',RandomForest),('DecisionTree',DecisionTree)\n",
    "                                          ,('LogisticRegression', LogisticRegression), ('KNN', KNN)\n",
    "                                          ],voting='soft',weights=[4,4,1,0,0,0])\n",
    "voting_clf.fit(X_train, y_train)"
   ]
  },
  {
   "cell_type": "code",
   "execution_count": 40,
   "id": "731596ab",
   "metadata": {
    "scrolled": true
   },
   "outputs": [
    {
     "name": "stdout",
     "output_type": "stream",
     "text": [
      "LGBMClassifier 0.855\n",
      "XGBClassifier 0.849\n",
      "RandomForestClassifier 0.822\n",
      "DecisionTreeClassifier 0.749\n",
      "LogisticRegression 0.58\n",
      "KNeighborsClassifier 0.689\n",
      "VotingClassifier 0.867\n"
     ]
    }
   ],
   "source": [
    "for clf in (LGB, XGB, RandomForest, DecisionTree, LogisticRegression, KNN, voting_clf):\n",
    "    clf.fit(X_train, y_train)\n",
    "    y_predict = clf.predict(X_val)\n",
    "    print(clf.__class__.__name__, round(accuracy_score(y_val, y_predict),3))"
   ]
  },
  {
   "cell_type": "code",
   "execution_count": 41,
   "id": "cc529e51",
   "metadata": {},
   "outputs": [
    {
     "data": {
      "image/png": "[encoded data removed]",
      "text/plain": [
       "<Figure size 576x396 with 2 Axes>"
      ]
     },
     "metadata": {},
     "output_type": "display_data"
    }
   ],
   "source": [
    "labels = ['Insufficient_Weight','Normal_Weight', 'Overweight_Level_I'\n",
    "          ,'Overweight_Level_II','Obesity_Type_I','Obesity_Type_II','Obesity_Type_III']\n",
    "cf_matrix = confusion_matrix(y_val, y_predict)\n",
    "ax = sns.heatmap(cf_matrix, annot=True, fmt='', cmap='PuRd')\n",
    "ax.set_title('Confusion Matrix\\n');\n",
    "ax.set_xlabel('\\nPredicted Values')\n",
    "ax.set_ylabel('Actual Values ');\n",
    "ax.xaxis.set_ticklabels(labels,rotation=90)\n",
    "ax.yaxis.set_ticklabels(labels,rotation=0)\n",
    "plt.show()"
   ]
  },
  {
   "cell_type": "markdown",
   "id": "3ed61a70",
   "metadata": {},
   "source": [
    "\n"
   ]
  },
  {
   "cell_type": "markdown",
   "id": "d000f4b0",
   "metadata": {},
   "source": [
    "*Our best model is VotingClassifier.*<br> *Run the full data:*\n"
   ]
  },
  {
   "cell_type": "code",
   "execution_count": 42,
   "id": "51b144cd",
   "metadata": {},
   "outputs": [],
   "source": [
    "X_train = np.concatenate((X_train,X_val),axis=0)\n",
    "y_train = np.concatenate((y_train,y_val),axis=0)"
   ]
  },
  {
   "cell_type": "code",
   "execution_count": 43,
   "id": "35d19b0e",
   "metadata": {},
   "outputs": [
    {
     "data": {
      "text/plain": [
       "VotingClassifier(estimators=[('LGB', LGBMClassifier()),\n",
       "                             ('XGB',\n",
       "                              XGBClassifier(base_score=0.5, booster='gbtree',\n",
       "                                            colsample_bylevel=1,\n",
       "                                            colsample_bynode=1,\n",
       "                                            colsample_bytree=1,\n",
       "                                            enable_categorical=False,\n",
       "                                            eval_metric='auc', gamma=0,\n",
       "                                            gpu_id=-1, importance_type=None,\n",
       "                                            interaction_constraints='',\n",
       "                                            learning_rate=0.300000012,\n",
       "                                            max_delta_step=0, max_depth=6,\n",
       "                                            min_child_weight=1, mi...\n",
       "                                            objective='multi:softprob',\n",
       "                                            predictor='auto', random_state=0,\n",
       "                                            reg_alpha=0, reg_lambda=1,\n",
       "                                            scale_pos_weight=None, subsample=1,\n",
       "                                            tree_method='exact',\n",
       "                                            validate_parameters=1, ...)),\n",
       "                             ('RandomForest', RandomForestClassifier()),\n",
       "                             ('DecisionTree', DecisionTreeClassifier()),\n",
       "                             ('LogisticRegression', LogisticRegression()),\n",
       "                             ('KNN', KNeighborsClassifier())],\n",
       "                 voting='soft', weights=[4, 4, 1, 0, 0, 0])"
      ]
     },
     "execution_count": 43,
     "metadata": {},
     "output_type": "execute_result"
    }
   ],
   "source": [
    "voting_clf.fit(X_train, y_train)"
   ]
  },
  {
   "cell_type": "code",
   "execution_count": 45,
   "id": "fc32c7ea",
   "metadata": {},
   "outputs": [
    {
     "name": "stdout",
     "output_type": "stream",
     "text": [
      "LGBMClassifier 0.842\n",
      "XGBClassifier 0.865\n",
      "RandomForestClassifier 0.858\n",
      "DecisionTreeClassifier 0.764\n",
      "LogisticRegression 0.589\n",
      "KNeighborsClassifier 0.757\n",
      "VotingClassifier 0.863\n"
     ]
    }
   ],
   "source": [
    "for clf in (LGB, XGB, RandomForest, DecisionTree, LogisticRegression, KNN, voting_clf):\n",
    "    clf.fit(X_train, y_train)\n",
    "    y_predict = clf.predict(X_test)\n",
    "    print(clf.__class__.__name__, round(accuracy_score(y_test, y_predict),3))"
   ]
  },
  {
   "cell_type": "code",
   "execution_count": 68,
   "id": "195d650f",
   "metadata": {},
   "outputs": [
    {
     "data": {
      "image/png": "[encoded data removed]",
      "text/plain": [
       "<Figure size 576x396 with 2 Axes>"
      ]
     },
     "metadata": {},
     "output_type": "display_data"
    }
   ],
   "source": [
    "cf_matrix = confusion_matrix(y_test, y_predict)\n",
    "ax = sns.heatmap(cf_matrix, annot=True, fmt='', cmap='Oranges')\n",
    "ax.set_title('Confusion Matrix\\n');\n",
    "ax.set_xlabel('\\nPredicted Values')\n",
    "ax.set_ylabel('Actual Values ');\n",
    "ax.xaxis.set_ticklabels(labels,rotation=90)\n",
    "ax.yaxis.set_ticklabels(labels,rotation=0)\n",
    "plt.show()"
   ]
  },
  {
   "cell_type": "markdown",
   "id": "0021ab0e",
   "metadata": {},
   "source": [
    "### Best accuracy -  VotingClassifier 0.863"
   ]
  },
  {
   "cell_type": "markdown",
   "id": "1f0d831d",
   "metadata": {},
   "source": [
    "<b>In conclusion, by re-looking at the data and using more powerful models,<br> we improved the accuracy percentages from 0.82% to 0.86 (-:<b/>"
   ]
  }
 ],
 "metadata": {
  "kernelspec": {
   "display_name": "Python 3 (ipykernel)",
   "language": "python",
   "name": "python3"
  },
  "language_info": {
   "codemirror_mode": {
    "name": "ipython",
    "version": 3
   },
   "file_extension": ".py",
   "mimetype": "text/x-python",
   "name": "python",
   "nbconvert_exporter": "python",
   "pygments_lexer": "ipython3",
   "version": "3.9.12"
  }
 },
 "nbformat": 4,
 "nbformat_minor": 5
}
